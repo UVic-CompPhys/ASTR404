{
 "cells": [
  {
   "cell_type": "code",
   "execution_count": 1,
   "id": "43bd0de9-64c1-400b-833d-182803b066e5",
   "metadata": {},
   "outputs": [],
   "source": [
    "from IPython.display import Image, HTML, display"
   ]
  },
  {
   "cell_type": "markdown",
   "id": "7b72bc96-e04e-4453-8cd9-50acd090aadd",
   "metadata": {},
   "source": [
    "<center>\n",
    "<h4> Cosmic microway radiation mesured by WMAP </h4>\n",
    "<img src=\"img/Heat_Transfer_in_Stars.svg\", width=1000>\n",
    "</center>"
   ]
  },
  {
   "cell_type": "code",
   "execution_count": null,
   "id": "c6fc21cd-9172-4700-8616-426fb922fc39",
   "metadata": {},
   "outputs": [],
   "source": []
  }
 ],
 "metadata": {
  "kernelspec": {
   "display_name": "Python 3 (ipykernel)",
   "language": "python",
   "name": "python3"
  },
  "language_info": {
   "codemirror_mode": {
    "name": "ipython",
    "version": 3
   },
   "file_extension": ".py",
   "mimetype": "text/x-python",
   "name": "python",
   "nbconvert_exporter": "python",
   "pygments_lexer": "ipython3",
   "version": "3.11.8"
  }
 },
 "nbformat": 4,
 "nbformat_minor": 5
}
