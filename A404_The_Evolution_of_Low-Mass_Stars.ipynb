{
 "cells": [
  {
   "cell_type": "code",
   "execution_count": 1,
   "metadata": {
    "slideshow": {
     "slide_type": "skip"
    }
   },
   "outputs": [],
   "source": [
    "from IPython.display import Image, HTML, display"
   ]
  },
  {
   "cell_type": "markdown",
   "metadata": {
    "slideshow": {
     "slide_type": "slide"
    }
   },
   "source": [
    "<center> \n",
    "<h1> ASTR 404 </h1>\n",
    "<h1> The Evolution of Low- and Intermediate-Mass Stars </h1>\n",
    "</center>"
   ]
  },
  {
   "cell_type": "markdown",
   "metadata": {
    "slideshow": {
     "slide_type": "slide"
    }
   },
   "source": [
    "<center>\n",
    "<h4> The pillars are a small region within the Eagle Nebula, a vast star-forming region 6,500 light-years from Earth</h4>\n",
    "<img src=\"img/PillarsOfCreation.jpg\", width=1000>\n",
    "<h4> NASA, ESA, CSA, STScI, Hubble Heritage Project (STScI, AURA); Joseph DePasquale (STScI), Anton M. Koekemoer (STScI), Alyssa Pagan (STScI)</h4>\n",
    "</center>"
   ]
  },
  {
   "cell_type": "markdown",
   "metadata": {
    "slideshow": {
     "slide_type": "slide"
    }
   },
   "source": [
    "<center>\n",
    "<h2> T Tauri star with a proto-planetary disc</h2>\n",
    "<img src=\"img/TTauriStar.jpg\", width=800>\n",
    "<h4> From https://phys.org/news/2024-03-distant-stellar-jwst-planet-formation.html</h4>\n",
    "</center>"
   ]
  },
  {
   "cell_type": "markdown",
   "metadata": {
    "slideshow": {
     "slide_type": "slide"
    }
   },
   "source": [
    "<center>\n",
    "<h2> The pre-MS evolution of low-mass stars (T Tauri stars)</h2>\n",
    "<img src=\"img/preMS.jpg\", width=800>\n",
    "</center>"
   ]
  },
  {
   "cell_type": "markdown",
   "metadata": {
    "collapsed": true,
    "jupyter": {
     "outputs_hidden": true
    },
    "slideshow": {
     "slide_type": "slide"
    }
   },
   "source": [
    "<center>\n",
    "<h2> The MS evolution of low-mass stars (MSTO points)</h2>\n",
    "<img src=\"img/lowmassMS.jpg\", width=800>\n",
    "</center>"
   ]
  },
  {
   "cell_type": "markdown",
   "metadata": {
    "slideshow": {
     "slide_type": "slide"
    }
   },
   "source": [
    "<center>\n",
    "<h2> The MS and RGB evolution of low- and intermediate-mass stars (the RGB tip)</h2>\n",
    "<img src=\"img/MSandRGB.jpg\", width=700>\n",
    "</center>"
   ]
  },
  {
   "cell_type": "markdown",
   "metadata": {
    "slideshow": {
     "slide_type": "slide"
    }
   },
   "source": [
    "<center>\n",
    "<h2> The track (a) and Kippenhahn diagram (b) of the evolution of a $1.2\\,M_\\odot$ star</h2>\n",
    "<img src=\"img/Track1.2Msun.pdf\", width=550>\n",
    "<img src=\"img/Kipp1.2Msun.pdf\", width=550>\n",
    "</center>"
   ]
  },
  {
   "cell_type": "markdown",
   "metadata": {
    "slideshow": {
     "slide_type": "slide"
    }
   },
   "source": [
    "<center>\n",
    "<h3> The planetary nebula M57 in the constellation Lyra. This is the envelope of an asymptotic giant branch star that was recently (~1600 years ago) expelled by it in a super-wind event. The white dwarf remnant is at the center of the nebula.</h3>\n",
    "<img src=\"img/M57_The_Ring_Nebula.jpg\", width=500>\n",
    "</center>"
   ]
  },
  {
   "cell_type": "markdown",
   "metadata": {
    "slideshow": {
     "slide_type": "slide"
    }
   },
   "source": [
    "<center>\n",
    "<h3> Why the low-mass star tracks make zigzags at the bump luminosity? </h3>\n",
    "<img src=\"img/tl.gif\", width=500>\n",
    "<img src=\"img/mabms.gif\", width=500>\n",
    "</center>"
   ]
  },
  {
   "cell_type": "markdown",
   "metadata": {
    "slideshow": {
     "slide_type": "slide"
    }
   },
   "source": [
    "<center>\n",
    "<h3> The chemical composition discontinuity is erased at the bump luminosity </h3>\n",
    "<img src=\"img/tlbump.gif\", width=500>\n",
    "<img src=\"img/rab.gif\", width=500>\n",
    "</center>"
   ]
  },
  {
   "cell_type": "markdown",
   "metadata": {
    "slideshow": {
     "slide_type": "slide"
    }
   },
   "source": [
    "<center>\n",
    "<h3> This allows extra mixing to reach the vicinity of the hydrogen-burning shell, altering the surface chemical composition </h3>\n",
    "<img src=\"img/tlmix.gif\", width=500>\n",
    "<img src=\"img/grattonmix.gif\", width=500>\n",
    "</center>"
   ]
  },
  {
   "cell_type": "markdown",
   "metadata": {
    "slideshow": {
     "slide_type": "slide"
    }
   },
   "source": [
    "<center>\n",
    "<h3> The mean molecular weight is reduced in the reaction 3He(3He,2p)4He at the top of the H-burning shell  </h3>\n",
    "<img src=\"img/tlbump.gif\", width=500>\n",
    "<img src=\"img/rmu.gif\", width=500>\n",
    "</center>"
   ]
  },
  {
   "cell_type": "markdown",
   "metadata": {
    "slideshow": {
     "slide_type": "slide"
    }
   },
   "source": [
    "<center>\n",
    "<h3> Thermohaline, or salt-fingering convection was proposed as a mechanism of RGB extra mixing  </h3>\n",
    "<img src=\"img/sf03.gif\", width=500>\n",
    "<img src=\"img/sf04.gif\", width=500>\n",
    "<h4> However, salt fingers are destroyed by shear instability, see https://www.youtube.com/watch?v=GAA3zYcW9_E </h4>\n",
    "</center>"
   ]
  },
  {
   "cell_type": "markdown",
   "metadata": {
    "slideshow": {
     "slide_type": "slide"
    }
   },
   "source": [
    "<center>\n",
    "<h2> The illustrated evolution of a solar mass star computed with MESA</h2>\n",
    "<h4> https://www.youtube.com/watch?v=_0sToMbbmV8</h4>\n",
    "</center>"
   ]
  },
  {
   "cell_type": "markdown",
   "metadata": {
    "slideshow": {
     "slide_type": "slide"
    }
   },
   "source": [
    "<center>\n",
    "<h2> The evolution of intermediate-mass stars</h2>\n",
    "<img src=\"img/intmass.jpg\", width=700>\n",
    "<h4>For $\\delta$ Cephei stars, $\\langle V_0\\rangle = -2.760\\log_{10}(P_\\mathrm{days}) + 17.042$ (from LMC cepheids) </h4>\n",
    "</center>"
   ]
  },
  {
   "cell_type": "markdown",
   "metadata": {
    "slideshow": {
     "slide_type": "slide"
    }
   },
   "source": [
    "<center>\n",
    "<h2> The evolution of AGB stars (from F. Herwig, 2005, ARAA, 43, 435)</h2>\n",
    "<img src=\"img/tracks.jpg\", width=800>\n",
    "</center>"
   ]
  },
  {
   "cell_type": "markdown",
   "metadata": {
    "collapsed": true,
    "jupyter": {
     "outputs_hidden": true
    },
    "slideshow": {
     "slide_type": "slide"
    }
   },
   "source": [
    "<center>\n",
    "<h2> The major evolutionary phases of low- and intermediate-mass stars</h2>\n",
    "<img src=\"img/FalkFig2.png\", width=800>\n",
    "</center>"
   ]
  },
  {
   "cell_type": "markdown",
   "metadata": {
    "slideshow": {
     "slide_type": "slide"
    }
   },
   "source": [
    "<center>\n",
    "<h2> The third dredge-up in evolution of AGB stars (from F. Herwig, 2005, ARAA, 43, 435)</h2>\n",
    "<img src=\"img/FalkFig3.png\", width=800>\n",
    "</center>"
   ]
  },
  {
   "cell_type": "markdown",
   "metadata": {
    "collapsed": true,
    "jupyter": {
     "outputs_hidden": true
    },
    "slideshow": {
     "slide_type": "slide"
    }
   },
   "source": [
    "<center>\n",
    "<h2> The slow (s) and rapid (r) neutron-capture processes in stars.</h2>\n",
    "<img src=\"img/processes.png\", width=800>\n",
    "</center>"
   ]
  },
  {
   "cell_type": "code",
   "execution_count": null,
   "metadata": {},
   "outputs": [],
   "source": []
  }
 ],
 "metadata": {
  "anaconda-cloud": {},
  "celltoolbar": "Slideshow",
  "kernelspec": {
   "display_name": "Python 3 (ipykernel)",
   "language": "python",
   "name": "python3"
  },
  "language_info": {
   "codemirror_mode": {
    "name": "ipython",
    "version": 3
   },
   "file_extension": ".py",
   "mimetype": "text/x-python",
   "name": "python",
   "nbconvert_exporter": "python",
   "pygments_lexer": "ipython3",
   "version": "3.11.8"
  }
 },
 "nbformat": 4,
 "nbformat_minor": 4
}
