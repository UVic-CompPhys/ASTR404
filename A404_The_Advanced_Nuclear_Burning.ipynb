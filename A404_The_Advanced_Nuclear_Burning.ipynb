{
 "cells": [
  {
   "cell_type": "code",
   "execution_count": 1,
   "metadata": {
    "collapsed": true,
    "jupyter": {
     "outputs_hidden": true
    },
    "slideshow": {
     "slide_type": "skip"
    }
   },
   "outputs": [],
   "source": [
    "from IPython.display import Image, HTML, display"
   ]
  },
  {
   "cell_type": "markdown",
   "metadata": {
    "slideshow": {
     "slide_type": "slide"
    }
   },
   "source": [
    "<center> \n",
    "<h1> ASTR 404 </h1>\n",
    "<h2> The Advanced Stages of Thermonuclear Burning in (High-Mass) Stars </h2>\n",
    "</center>\n",
    "\n",
    "\n",
    "\n",
    "In massive stars ($M\\geq 8 M_\\odot$), (1) H- and (2) He-core burning stages are followed by\n",
    "<center> \n",
    "<h4> (3) C burning in the following reactions:</h4>\n",
    "</center> \n",
    "$$\n",
    "^{12}\\mathrm{C} + ^{12}\\mathrm{C} \\rightarrow ^{20}\\mathrm{Ne} + \\alpha\\ \\ \\ (Q>0),\n",
    "$$\n",
    "$$\n",
    "^{12}\\mathrm{C} + ^{12}\\mathrm{C} \\rightarrow ^{23}\\mathrm{Na} + \\mathrm{p}\\ \\ \\ (Q>0),\n",
    "$$\n",
    "$$\n",
    "^{12}\\mathrm{C} + ^{12}\\mathrm{C} \\rightarrow ^{24}\\mathrm{Mg} + \\gamma\\ \\ \\ (Q>0),\n",
    "$$\n",
    "$$\n",
    "^{12}\\mathrm{C} + ^{12}\\mathrm{C} \\rightarrow ^{16}\\mathrm{O} + 2\\alpha\\ \\ \\ (Q<0),\n",
    "$$\n",
    "$$\n",
    "^{12}\\mathrm{C} + ^{12}\\mathrm{C} \\rightarrow ^{23}\\mathrm{Mg} + \\mathrm{n} \\ \\ (Q<0).\n",
    "$$\n",
    "\n",
    "<center> \n",
    "<h4> (4) Ne burning</h4>\n",
    "</center> \n",
    "$$\n",
    "^{20}\\mathrm{Ne} + \\gamma \\rightarrow ^{16}\\mathrm{O} + \\alpha\\ \\ \\ (Q<0),\n",
    "$$\n",
    "$$\n",
    "^{20}\\mathrm{Ne} + \\alpha \\rightarrow ^{24}\\mathrm{Mg} + \\gamma\\ \\ \\ (Q>0),\n",
    "$$\n",
    "$$\n",
    "^{24}\\mathrm{Mg} + \\alpha \\rightarrow ^{28}\\mathrm{Si} + \\gamma\\ \\ \\ (Q>0),\n",
    "$$\n",
    "<center>\n",
    "and later,\n",
    "</center>\n",
    "$$\n",
    "^{20}\\mathrm{Ne} + ^{20}\\mathrm{Ne} \\rightarrow ^{16}\\mathrm{O} + ^{24}\\mathrm{Mg} \\ \\ (Q>0).\n",
    "$$"
   ]
  },
  {
   "cell_type": "markdown",
   "metadata": {
    "slideshow": {
     "slide_type": "slide"
    }
   },
   "source": [
    "<center> \n",
    "<h4> (5) O burning</h4>\n",
    "</center> \n",
    "$$\n",
    "^{16}\\mathrm{O} + ^{16}\\mathrm{O} \\rightarrow ^{30}\\mathrm{Si} + 2\\mathrm{p},\n",
    "$$\n",
    "$$\n",
    "^{16}\\mathrm{O} + ^{16}\\mathrm{O} \\rightarrow ^{28}\\mathrm{Si} + \\alpha,\n",
    "$$\n",
    "$$\n",
    "^{16}\\mathrm{O} + ^{16}\\mathrm{O} \\rightarrow ^{31}\\mathrm{P} + \\mathrm{p},\n",
    "$$\n",
    "$$\n",
    "^{16}\\mathrm{O} + ^{16}\\mathrm{O} \\rightarrow ^{31}\\mathrm{S} + \\mathrm{n}.\n",
    "$$\n",
    "\n",
    "<center> \n",
    "<h4> Finally, (6) Si burning</h4>\n",
    "</center> \n",
    "$$\n",
    "^{28}\\mathrm{Si} + \\alpha \\rightarrow ^{32}\\mathrm{S} + \\gamma,\n",
    "$$\n",
    "<center> \n",
    "<h4>this is called an $\\alpha$ process.</h4> \n",
    "\n",
    "It makes successively $^{36}$Ar, $^{40}$Ca, $^{44}$Ti, $^{48}$Cr, $^{52}$Fe, and finally, $^{56}$Ni,\n",
    "which decays in $^{56}\\mathrm{Ni}\\rightarrow ^{56}\\mathrm{Co} + \\mathrm{e}^+ + \\nu$, or \n",
    "$^{56}\\mathrm{Ni} + \\mathrm{e} \\rightarrow ^{56}\\mathrm{Co} + \\nu$\n",
    "and $^{56}\\mathrm{Co}\\rightarrow ^{56}\\mathrm{Fe} + \\mathrm{e}^+ + \\nu$.\n",
    "This is how the so-called iron-peak elements are produced.\n",
    "</center>\n",
    "\n",
    "<center> \n",
    "<h4> Fe-core collapse leads to the photodisintegration of all elements into protons and neutrons:</h4>\n",
    "</center> \n",
    "$$\n",
    "^{56}\\mathrm{Fe} + \\gamma \\rightarrow 13 {^{4}\\mathrm{He}} + 4\\mathrm{n},\n",
    "$$\n",
    "$$\n",
    "^{4}\\mathrm{He} + \\gamma \\rightarrow 2\\mathrm{p} + 2\\mathrm{n}.\n",
    "$$\n",
    "\n",
    "<center> \n",
    "<h4> Neutrino energy losses (at high $\\rho$ and $T$)</h4>\n",
    "</center> \n",
    "$$\n",
    "\\mathrm{1)\\ from\\ electron-positron\\ annihilation:\\ \\ }\n",
    "\\mathrm{e}^+ + \\mathrm{e}^- \\rightarrow \\nu + \\bar{\\nu},\n",
    "$$\n",
    "$$\n",
    "\\mathrm{2)\\ photo\\ neutrinos:\\ \\ }\n",
    "\\mathrm{e}^- + \\gamma \\rightarrow \\mathrm{e}^- + \\nu + \\bar{\\nu},\n",
    "$$\n",
    "$$\n",
    "\\mathrm{3)\\ plasma\\ neutrinos\\ from\\ decay\\ of\\ plasmons:\\ \\ }\n",
    "\\hbar\\omega_\\mathrm{plasma} \\rightarrow \\nu + \\bar{\\nu},\n",
    "$$\n",
    "$$\n",
    "\\mathrm{4)\\ from\\ weak\\ process}\\ (\\beta\\ \\mathrm{decays}):\\ \\\n",
    "\\mathrm{p} + \\mathrm{e}^- \\rightarrow \\mathrm{n} + \\nu.\n",
    "$$\n",
    "$$\n",
    "\\mathrm{All\\ result\\ in}\\ \\varepsilon_\\mathrm{n} + \\varepsilon_\\nu < 0.\n",
    "$$"
   ]
  },
  {
   "cell_type": "markdown",
   "metadata": {
    "slideshow": {
     "slide_type": "slide"
    }
   },
   "source": [
    "<center>\n",
    "<h4> The evolutionary tracks of high-mass stars</h4>\n",
    "<img src=\"img/highmass.jpg\", width=800>\n",
    "</center>"
   ]
  },
  {
   "cell_type": "markdown",
   "metadata": {
    "collapsed": true,
    "jupyter": {
     "outputs_hidden": true
    },
    "slideshow": {
     "slide_type": "slide"
    }
   },
   "source": [
    "<center>\n",
    "<img src=\"img/highmassTable1.jpg\", width=800>\n",
    "</center>"
   ]
  },
  {
   "cell_type": "markdown",
   "metadata": {
    "slideshow": {
     "slide_type": "slide"
    }
   },
   "source": [
    "<center>\n",
    "<img src=\"img/highmassTable2.jpg\", width=800>\n",
    "</center>"
   ]
  },
  {
   "cell_type": "markdown",
   "metadata": {
    "slideshow": {
     "slide_type": "slide"
    }
   },
   "source": [
    "<center>\n",
    "<h4> The onion-skin structure of a massive star at the end of its life</h4>\n",
    "<img src=\"img/OnionStar.jpg\", width=800>\n",
    "</center>"
   ]
  },
  {
   "cell_type": "markdown",
   "metadata": {
    "slideshow": {
     "slide_type": "slide"
    }
   },
   "source": [
    "<center>\n",
    "<h4> The Kippenhahn diagram for the evolution of a high-mass star</h4>\n",
    "<img src=\"img/KippHighMass.gif\", width=800>\n",
    "</center>"
   ]
  },
  {
   "cell_type": "markdown",
   "metadata": {
    "collapsed": true,
    "jupyter": {
     "outputs_hidden": true
    },
    "slideshow": {
     "slide_type": "slide"
    }
   },
   "source": [
    "<center>\n",
    "<small> An HST image of the R136 super star cluster, near the center of the 30 Doradus Nebula (the Tarantula Nebula or NGC 2070).</small>\n",
    "<img src=\"img/R136LMC.jpg\", width=800>\n",
    "</center>"
   ]
  }
 ],
 "metadata": {
  "anaconda-cloud": {},
  "celltoolbar": "Slideshow",
  "kernelspec": {
   "display_name": "Python 3 (ipykernel)",
   "language": "python",
   "name": "python3"
  },
  "language_info": {
   "codemirror_mode": {
    "name": "ipython",
    "version": 3
   },
   "file_extension": ".py",
   "mimetype": "text/x-python",
   "name": "python",
   "nbconvert_exporter": "python",
   "pygments_lexer": "ipython3",
   "version": "3.11.8"
  }
 },
 "nbformat": 4,
 "nbformat_minor": 4
}
