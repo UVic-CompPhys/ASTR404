{
 "cells": [
  {
   "cell_type": "markdown",
   "metadata": {},
   "source": [
    "## The Chandrasekhar mass limit for the white-dwarf models with $T=0$ (ASTR 404)"
   ]
  },
  {
   "cell_type": "markdown",
   "metadata": {},
   "source": [
    "The structure of a non-rotating spherically symmetric star is determined by the equation of hydrostatic equilibrium\n",
    "\n",
    "$$\n",
    "\\frac{dP}{dr} = -g\\rho,\n",
    "$$\n",
    "\n",
    "where $P$ and $\\rho$ are the pressure and density,\n",
    "$g=\\frac{d\\varphi}{dr}=\\frac{GM_r}{r^2}$ is the gravitational acceleration on the surface of a sphere of the radius $r$ and mass\n",
    "\n",
    "$$\n",
    "M_r = \\int_0^r 4\\pi r^2\\rho dr,\n",
    "$$\n",
    "\n",
    "and $\\varphi$ is the gravitational potential on the sphere.\n",
    "\n",
    "For a known distribution of gas particle's momentum $n(p)$, the pressure is given by the following integral:\n",
    "\n",
    "$$\n",
    "P = \\frac{1}{3}\\int_0^\\infty\\frac{dn(p)}{dp}v(p)pdp,\n",
    "$$\n",
    "\n",
    "where $v=\\frac{dE(p)}{dp}$ is particle's velocity expressed via its energy $E(p)=\\sqrt{m^2c^4+p^2c^2}$.\n",
    "\n",
    "White dwarfs are the stars in which the hydrostatic equilibrium is supported by the pressure of electron-degenerate gas. The zero-temperature assumption means that in their phase space electrons must occupy all available states with the minimum possible energy $E(p)\\leq E(p_0)$. This simplifies the computation of their equation of state that is now defined by\n",
    "the Pauli exclusion and Heisenberg's uncertainty principles. According to them, only two electrons with opposite\n",
    "spins can occupy the elementary cell of the phase space $h^3$. Therefore, the number of electrons $dN(p)$ with momenta\n",
    "between $p$ and $p+dp$ inside a volume $V$ that can be combined in pairs with opposite spins and placed in the elementary cells is\n",
    "$$\n",
    "dN(p) = 2\\frac{4\\pi p^2dp V}{h^3},\n",
    "$$\n",
    "which gives\n",
    "$$\n",
    "\\frac{dn(p)}{dp} = \\frac{1}{V}\\frac{dN(p)}{dp} = \\frac{8\\pi p^2}{h^3}.\n",
    "$$\n",
    "\n",
    "The pressure of the electron-degenerate gas at $T=0$ is therefore \n",
    "$$\n",
    "P = \\frac{8\\pi}{3h^3}\\int_0^{p_0}\\frac{dE(p)}{dp}p^3dp,\n",
    "$$\n",
    "\n",
    "where $p_0$ is the Fermi momentum that is constrained by the electron number density\n",
    "\n",
    "$$\n",
    "n = \\frac{8\\pi}{h^3}\\int_0^{p_0} p^2dp = \\frac{8\\pi}{3h^3}{p_0}^3.\n",
    "$$\n",
    "\n",
    "The latter is related to the mass density as $\\rho = \\mu_\\mathrm{e}M_\\mathrm{u}n$, where\n",
    "$\\mu_\\mathrm{e} = (\\Sigma\\,X_i\\frac{Z_i}{A_i})^{-1}$ is the electron mean molecular weight and $M_\\mathrm{u}$ is the atomic mass unit, with $X_i$, $Z_i$, and $A_i$ being the mass fraction, atomic number and mass number of the i-th nucleus.\n",
    "For a CO white dwarf, $\\mu_\\mathrm{e} = 2$."
   ]
  },
  {
   "cell_type": "markdown",
   "metadata": {},
   "source": [
    "### This information is sufficient to estimate one of the most important quantity in the stellar astrophysics - the Chandrasekhar mass limit for white dwarfs, $M_\\mathrm{Ch}$."
   ]
  },
  {
   "cell_type": "code",
   "execution_count": 1,
   "metadata": {},
   "outputs": [],
   "source": [
    "from __future__ import division\n",
    "from sympy import *\n",
    "import numpy as np\n",
    "import matplotlib.pyplot as plt\n",
    "\n",
    "# physical constants\n",
    "import scipy.constants as sc\n",
    "\n",
    "from scipy.integrate import odeint\n",
    "from scipy import interpolate\n",
    "\n",
    "# astronomical constants\n",
    "from astropy import constants as ac\n",
    "\n",
    "fsize=16\n",
    "plt.rcParams['font.size'] = 14\n",
    "plt.rcParams['font.family'] = 'serif'\n",
    "\n",
    "init_printing()"
   ]
  },
  {
   "cell_type": "code",
   "execution_count": 2,
   "metadata": {},
   "outputs": [],
   "source": [
    "# x - dimensionless Fermi momentum\n",
    "# p - momentum of an electron\n",
    "# E - energy\n",
    "# v = dE/dp - velocity\n",
    "# P - pressure\n",
    "# n - electron number density\n",
    "# m - mass of electron\n",
    "# c - the speed of light in vacuum\n",
    "# h - Planck constant\n",
    "# p0 - Fermi momentun of electrons\n",
    "# mue - electron mean molecular weight\n",
    "# NA - Avogadro's number\n",
    "# AMU - atomic mass unit\n",
    "x, p, E, v, P, n, m, c, h, p0, mue, G, NA, AMU = symbols('x p E v P n m c h p0 mue G NA AMU')"
   ]
  },
  {
   "cell_type": "code",
   "execution_count": 3,
   "metadata": {},
   "outputs": [
    {
     "name": "stdout",
     "output_type": "stream",
     "text": [
      "The electron energy:\n"
     ]
    },
    {
     "data": {
      "image/png": "[encoded data removed]",
      "text/latex": [
       "$\\displaystyle \\sqrt{c^{4} m^{2} + c^{2} p^{2}}$"
      ],
      "text/plain": [
       "   _______________\n",
       "  ╱  4  2    2  2 \n",
       "╲╱  c ⋅m  + c ⋅p  "
      ]
     },
     "execution_count": 3,
     "metadata": {},
     "output_type": "execute_result"
    }
   ],
   "source": [
    "E=sqrt(p**2*c**2+m**2*c**4)\n",
    "print (\"The electron energy:\")\n",
    "E"
   ]
  },
  {
   "cell_type": "code",
   "execution_count": 4,
   "metadata": {},
   "outputs": [
    {
     "name": "stdout",
     "output_type": "stream",
     "text": [
      "The electron velocity:\n"
     ]
    },
    {
     "data": {
      "image/png": "[encoded data removed]",
      "text/latex": [
       "$\\displaystyle \\frac{c^{2} p}{\\sqrt{c^{4} m^{2} + c^{2} p^{2}}}$"
      ],
      "text/plain": [
       "        2         \n",
       "       c ⋅p       \n",
       "──────────────────\n",
       "   _______________\n",
       "  ╱  4  2    2  2 \n",
       "╲╱  c ⋅m  + c ⋅p  "
      ]
     },
     "execution_count": 4,
     "metadata": {},
     "output_type": "execute_result"
    }
   ],
   "source": [
    "v=diff(E,p)\n",
    "print (\"The electron velocity:\")\n",
    "v"
   ]
  },
  {
   "cell_type": "code",
   "execution_count": 5,
   "metadata": {},
   "outputs": [
    {
     "name": "stdout",
     "output_type": "stream",
     "text": [
      "The electron pressure integral:\n"
     ]
    },
    {
     "data": {
      "image/png": "[encoded data removed]",
      "text/latex": [
       "$\\displaystyle \\int \\frac{8 \\pi c^{2} p^{4}}{3 h^{3} \\sqrt{c^{4} m^{2} + c^{2} p^{2}}}\\, dp$"
      ],
      "text/plain": [
       "⌠                           \n",
       "⎮             2  4          \n",
       "⎮        8⋅π⋅c ⋅p           \n",
       "⎮ ─────────────────────── dp\n",
       "⎮         _______________   \n",
       "⎮    3   ╱  4  2    2  2    \n",
       "⎮ 3⋅h ⋅╲╱  c ⋅m  + c ⋅p     \n",
       "⌡                           "
      ]
     },
     "execution_count": 5,
     "metadata": {},
     "output_type": "execute_result"
    }
   ],
   "source": [
    "f=(8*pi/(3*h**3))*v*p**3\n",
    "P_int=Integral(f,p)\n",
    "print (\"The electron pressure integral:\")\n",
    "P_int"
   ]
  },
  {
   "cell_type": "markdown",
   "metadata": {},
   "source": [
    "This integral has to be taken from 0 to $p_0$.\n",
    "From its expression, it follows that $\\frac{dP}{dx} = \\frac{8\\pi}{3}\\frac{mc^2}{\\lambda^3}\\frac{x^4}{\\sqrt{1+x^2}}$, where\n",
    "$x=\\frac{p_0}{mc}$ is the dimensionless Fermi momentum and $\\lambda = \\frac{h}{mc}$ is the De Broglie wavelength of\n",
    "ultra-relativistic electrons."
   ]
  },
  {
   "cell_type": "code",
   "execution_count": 6,
   "metadata": {},
   "outputs": [
    {
     "name": "stdout",
     "output_type": "stream",
     "text": [
      "The integrated pressure as a function of p0:\n"
     ]
    },
    {
     "data": {
      "image/png": "[encoded data removed]",
      "text/latex": [
       "$\\displaystyle \\frac{8 \\pi c^{2} \\left(\\frac{3 c^{3} m^{4} \\operatorname{asinh}{\\left(\\frac{p_{0}}{c m} \\right)}}{8} - \\frac{3 c^{2} m^{3} p_{0}}{8 \\sqrt{1 + \\frac{p_{0}^{2}}{c^{2} m^{2}}}} - \\frac{m p_{0}^{3}}{8 \\sqrt{1 + \\frac{p_{0}^{2}}{c^{2} m^{2}}}} + \\frac{p_{0}^{5}}{4 c^{2} m \\sqrt{1 + \\frac{p_{0}^{2}}{c^{2} m^{2}}}}\\right)}{3 h^{3}}$"
      ],
      "text/plain": [
       "       ⎛   3  4      ⎛p₀ ⎞                                                     ↪\n",
       "       ⎜3⋅c ⋅m ⋅asinh⎜───⎟          2  3                      3                ↪\n",
       "     2 ⎜             ⎝c⋅m⎠       3⋅c ⋅m ⋅p₀               m⋅p₀                 ↪\n",
       "8⋅π⋅c ⋅⎜────────────────── - ─────────────────── - ─────────────────── + ───── ↪\n",
       "       ⎜        8                    ___________           ___________         ↪\n",
       "       ⎜                            ╱        2            ╱        2           ↪\n",
       "       ⎜                           ╱       p₀            ╱       p₀         2  ↪\n",
       "       ⎜                     8⋅   ╱   1 + ─────    8⋅   ╱   1 + ─────    4⋅c ⋅ ↪\n",
       "       ⎜                         ╱         2  2        ╱         2  2          ↪\n",
       "       ⎝                       ╲╱         c ⋅m       ╲╱         c ⋅m           ↪\n",
       "────────────────────────────────────────────────────────────────────────────── ↪\n",
       "                                                  3                            ↪\n",
       "                                               3⋅h                             ↪\n",
       "\n",
       "↪                    ⎞\n",
       "↪        5           ⎟\n",
       "↪      p₀            ⎟\n",
       "↪ ───────────────────⎟\n",
       "↪         ___________⎟\n",
       "↪        ╱        2  ⎟\n",
       "↪       ╱       p₀   ⎟\n",
       "↪ m⋅   ╱   1 + ───── ⎟\n",
       "↪     ╱         2  2 ⎟\n",
       "↪   ╲╱         c ⋅m  ⎠\n",
       "↪ ────────────────────\n",
       "↪                     \n",
       "↪                     "
      ]
     },
     "execution_count": 6,
     "metadata": {},
     "output_type": "execute_result"
    }
   ],
   "source": [
    "print (\"The integrated pressure as a function of p0:\")\n",
    "P=integrate(f,(p,0,p0))\n",
    "P"
   ]
  },
  {
   "cell_type": "code",
   "execution_count": 7,
   "metadata": {},
   "outputs": [
    {
     "name": "stdout",
     "output_type": "stream",
     "text": [
      "The integrated pressure as a function of x:\n"
     ]
    },
    {
     "data": {
      "image/png": "[encoded data removed]",
      "text/latex": [
       "$\\displaystyle \\frac{\\pi c^{5} m^{4} \\left(2 x^{5} - x^{3} - 3 x + 3 \\sqrt{x^{2} + 1} \\operatorname{asinh}{\\left(x \\right)}\\right)}{3 h^{3} \\sqrt{x^{2} + 1}}$"
      ],
      "text/plain": [
       "        ⎛                       ________         ⎞\n",
       "   5  4 ⎜   5    3             ╱  2              ⎟\n",
       "π⋅c ⋅m ⋅⎝2⋅x  - x  - 3⋅x + 3⋅╲╱  x  + 1 ⋅asinh(x)⎠\n",
       "──────────────────────────────────────────────────\n",
       "                         ________                 \n",
       "                    3   ╱  2                      \n",
       "                 3⋅h ⋅╲╱  x  + 1                  "
      ]
     },
     "execution_count": 7,
     "metadata": {},
     "output_type": "execute_result"
    }
   ],
   "source": [
    "# x=p0/(m*c) is the relativization parameter\n",
    "print (\"The integrated pressure as a function of x:\")\n",
    "Px=simplify(P.subs(p0,c*m*x))\n",
    "Px"
   ]
  },
  {
   "cell_type": "code",
   "execution_count": 8,
   "metadata": {},
   "outputs": [
    {
     "data": {
      "image/png": "[encoded data removed]",
      "text/latex": [
       "$\\displaystyle \\frac{\\pi c^{5} m^{4}}{3 h^{3}}$"
      ],
      "text/plain": [
       "   5  4\n",
       "π⋅c ⋅m \n",
       "───────\n",
       "    3  \n",
       " 3⋅h   "
      ]
     },
     "execution_count": 8,
     "metadata": {},
     "output_type": "execute_result"
    }
   ],
   "source": [
    "A=(pi/3)*(c**5*m**4)/h**3\n",
    "A"
   ]
  },
  {
   "cell_type": "code",
   "execution_count": 9,
   "metadata": {},
   "outputs": [
    {
     "name": "stdout",
     "output_type": "stream",
     "text": [
      "A0= 6.00233218566044e+21\n"
     ]
    }
   ],
   "source": [
    "A0=(A.subs({c:sc.c, m:sc.m_e, h:sc.h})).evalf()\n",
    "print (\"A0=\",A0)"
   ]
  },
  {
   "cell_type": "markdown",
   "metadata": {},
   "source": [
    "### In fact, we don't even need to know the pressure in order to find the Chandrasekhar mass limit. It is sufficient to know the pressure derivative with respect to the Fermi momentun that we have already found."
   ]
  },
  {
   "cell_type": "code",
   "execution_count": 10,
   "metadata": {},
   "outputs": [
    {
     "name": "stdout",
     "output_type": "stream",
     "text": [
      "The electron number density integral:\n"
     ]
    },
    {
     "data": {
      "image/png": "[encoded data removed]",
      "text/latex": [
       "$\\displaystyle \\int \\frac{8 \\pi p^{2}}{h^{3}}\\, dp$"
      ],
      "text/plain": [
       "⌠          \n",
       "⎮      2   \n",
       "⎮ 8⋅π⋅p    \n",
       "⎮ ────── dp\n",
       "⎮    3     \n",
       "⎮   h      \n",
       "⌡          "
      ]
     },
     "execution_count": 10,
     "metadata": {},
     "output_type": "execute_result"
    }
   ],
   "source": [
    "f=(8*pi/(h**3))*p**2\n",
    "n_int=Integral(f,p)\n",
    "print (\"The electron number density integral:\")\n",
    "n_int"
   ]
  },
  {
   "cell_type": "code",
   "execution_count": 11,
   "metadata": {},
   "outputs": [
    {
     "name": "stdout",
     "output_type": "stream",
     "text": [
      "The integrated electron number density:\n"
     ]
    },
    {
     "data": {
      "image/png": "[encoded data removed]",
      "text/latex": [
       "$\\displaystyle \\frac{8 \\pi c^{3} m^{3} x^{3}}{3 h^{3}}$"
      ],
      "text/plain": [
       "     3  3  3\n",
       "8⋅π⋅c ⋅m ⋅x \n",
       "────────────\n",
       "       3    \n",
       "    3⋅h     "
      ]
     },
     "execution_count": 11,
     "metadata": {},
     "output_type": "execute_result"
    }
   ],
   "source": [
    "print (\"The integrated electron number density:\")\n",
    "n_int=integrate(f,(p,0,p0))\n",
    "nx=n_int.subs(p0,c*m*x)\n",
    "nx"
   ]
  },
  {
   "cell_type": "code",
   "execution_count": 12,
   "metadata": {},
   "outputs": [
    {
     "name": "stdout",
     "output_type": "stream",
     "text": [
      "The integrated mass density:\n"
     ]
    },
    {
     "data": {
      "image/png": "[encoded data removed]",
      "text/latex": [
       "$\\displaystyle \\frac{8 \\pi AMU c^{3} m^{3} mue x^{3}}{3 h^{3}}$"
      ],
      "text/plain": [
       "         3  3      3\n",
       "8⋅π⋅AMU⋅c ⋅m ⋅mue⋅x \n",
       "────────────────────\n",
       "           3        \n",
       "        3⋅h         "
      ]
     },
     "execution_count": 12,
     "metadata": {},
     "output_type": "execute_result"
    }
   ],
   "source": [
    "print (\"The integrated mass density:\")\n",
    "nrho=nx*mue*AMU\n",
    "nrho"
   ]
  },
  {
   "cell_type": "markdown",
   "metadata": {},
   "source": [
    "So, the mass density is $\\rho = \\frac{8\\pi}{3}\\frac{\\mu_\\mathrm{e}M_\\mathrm{u}}{\\lambda^3}x^3 = B_0\\mu_\\mathrm{e}x^3$, \n",
    "where $M_\\mathrm{u} = N_\\mathrm{A}^{-1}$ is the atomic mass unit (AMU) in grams."
   ]
  },
  {
   "cell_type": "code",
   "execution_count": 13,
   "metadata": {},
   "outputs": [
    {
     "name": "stdout",
     "output_type": "stream",
     "text": [
      "When calculating the AMU, the Avogadro number has to be multiplied by 1000 to transform grams to kilograms\n"
     ]
    },
    {
     "data": {
      "image/png": "[encoded data removed]",
      "text/latex": [
       "$\\displaystyle \\frac{0.00266666666666667 \\pi c^{3} m^{3}}{NA h^{3}}$"
      ],
      "text/plain": [
       "                       3  3\n",
       "0.00266666666666667⋅π⋅c ⋅m \n",
       "───────────────────────────\n",
       "               3           \n",
       "           NA⋅h            "
      ]
     },
     "execution_count": 13,
     "metadata": {},
     "output_type": "execute_result"
    }
   ],
   "source": [
    "print (\"When calculating the AMU, the Avogadro number has to be multiplied by 1000 to transform grams to kilograms\")\n",
    "B=(8*pi/3)*(m*c/h)**3/(1e3*NA)\n",
    "B"
   ]
  },
  {
   "cell_type": "code",
   "execution_count": 14,
   "metadata": {},
   "outputs": [
    {
     "name": "stdout",
     "output_type": "stream",
     "text": [
      "B0= 973932167.009161\n"
     ]
    }
   ],
   "source": [
    "B0=(B.subs({c:sc.c, m:sc.m_e, h:sc.h, NA:sc.N_A})).evalf()\n",
    "print (\"B0=\",B0)"
   ]
  },
  {
   "cell_type": "markdown",
   "metadata": {},
   "source": [
    "## The Chandrasekhar differential equation"
   ]
  },
  {
   "cell_type": "markdown",
   "metadata": {},
   "source": [
    "The hydrostatic equilibrium equation can be written as\n",
    "\n",
    "$$\n",
    "\\frac{dP(x)}{dr} = \\frac{dP}{dx}\\frac{dx}{dr} = -\\rho \\frac{d\\varphi}{dr}.\n",
    "$$\n",
    "\n",
    "In the spherically symmetric case, the gravitational potential obeys the following (Poisson's) equation:\n",
    "\n",
    "$$\n",
    "\\Delta \\varphi = \\frac{1}{r^2}\\frac{d}{dr}\\left(r^2\\frac{d\\varphi}{dr}\\right) = 4\\pi G\\rho.\n",
    "$$\n",
    "\n",
    "After substituting the expressions for $\\frac{dP}{dx}$ and $\\rho(x)$ into Poisson's equation, it becomes\n",
    "\n",
    "$$\n",
    "\\frac{1}{r^2}\\frac{d}{dr}\\left(r^2\\frac{d\\sqrt{1+x^2}}{dr}\\right) = - \\frac{8\\pi}{3}\\frac{(\\mu_\\mathrm{e}M_\\mathrm{u})^2}{mc^2}\n",
    "\\frac{4\\pi G}{\\lambda^3} x^3.\n",
    "$$\n",
    "Introducing the Chandrasekhar function $y=\\frac{\\sqrt{1+x}}{y_0}$ and the dimensionless radius $\\xi = \\frac{r}{l_0}$, where\n",
    "\n",
    "$$\n",
    "l_0 = \\frac{1}{y_0}\\left[\\left(\\frac{3}{8\\pi}\\right)\\frac{mc^2\\lambda^3}{4\\pi G (\\mu_\\mathrm{e}M_\\mathrm{u})^2}\\right]^{1/2},\n",
    "$$\n",
    "\n",
    "we derive the white-dwarf structure equation\n",
    "\n",
    "$$\n",
    "\\frac{1}{\\xi^2}\\frac{d}{d\\xi}\\left(\\xi^2\\frac{dy}{d\\xi}\\right) = -\\left(y^2-\\frac{1}{y_0^2}\\right)^{3/2}\n",
    "$$\n",
    "\n",
    "that has to be solved for the initial conditions $y(0)=1$ and $y'(0)=0$. This is a one-parameteric equation with\n",
    "\n",
    "$$\n",
    "y_0^2 = 1 + \\left(\\frac{\\rho_\\mathrm{c}}{B_0\\mu_\\mathrm{e}}\\right)^{2/3},\n",
    "$$\n",
    "\n",
    "where $\\rho_\\mathrm{c}$ is the central density. In the Chandrasekhar (ultra-relativistic) limit \n",
    "$\\rho_\\mathrm{c}\\to\\infty$."
   ]
  },
  {
   "cell_type": "code",
   "execution_count": 15,
   "metadata": {},
   "outputs": [
    {
     "data": {
      "image/png": "[encoded data removed]",
      "text/plain": [
       "<Figure size 640x480 with 1 Axes>"
      ]
     },
     "metadata": {},
     "output_type": "display_data"
    }
   ],
   "source": [
    "# solution of the above second order ODE for y:\n",
    "\n",
    "y02=1e-10 # 0.01 # 1e-10 # 1/y0**2 a small y02 corresponds to ultra-relativistic limit\n",
    "y0=np.sqrt(y02)\n",
    "\n",
    "def g(y, x):\n",
    "    y0 = y[0]\n",
    "    y1 = y[1]\n",
    "    y2 = -2*y1/x - (abs(y0**2-y02))**1.5\n",
    "    return y1, y2\n",
    "\n",
    "# Initial conditions on y, y' at x=0\n",
    "init = 1.0, 0.0\n",
    "\n",
    "# First integrate from 0 to 2\n",
    "x0=1.0\n",
    "y00=1.0\n",
    "while y00 > y0:  \n",
    "    x0=2.0*x0\n",
    "    x = np.linspace(1e-20,x0,1000)\n",
    "    sol=odeint(g, init, x)\n",
    "    y00=sol[-1,0]\n",
    "    \n",
    "plt.plot(x, sol[:,0]-y0, color='b')\n",
    "plt.xlabel(\"x\")\n",
    "plt.ylabel(\"$y - y_0^{-1}$\")\n",
    "plt.show()"
   ]
  },
  {
   "cell_type": "code",
   "execution_count": 16,
   "metadata": {},
   "outputs": [
    {
     "name": "stdout",
     "output_type": "stream",
     "text": [
      "6.89661574580694\n",
      "-0.040366478139719046\n",
      "2.018237556660024\n"
     ]
    }
   ],
   "source": [
    "# We interpolate the solution to find its and its derivative's values at the surface\n",
    "f = interpolate.interp1d(sol[:,0]-y0,x)\n",
    "g = interpolate.interp1d(x,sol[:,1])\n",
    "print (f(0)) \n",
    "print (sol[-1,0]-y0) \n",
    "print (-f(0)**2*g(f(0)))"
   ]
  },
  {
   "cell_type": "markdown",
   "metadata": {},
   "source": [
    "The white-dwarf mass is $M = \\int_0^R 4\\pi r^2\\rho dr$. Using a solution of the differential equation, the mass can be presented as\n",
    "\n",
    "$$\n",
    "M = \\frac{4\\pi B_0 L_0}{\\mu_\\mathrm{e}^2}\\left[-\\xi^2 y'(\\xi)\\right],\n",
    "$$\n",
    "\n",
    "where the coefficient $B_0$ has already been calculated, and $L_0$ is calculated now."
   ]
  },
  {
   "cell_type": "code",
   "execution_count": 17,
   "metadata": {},
   "outputs": [
    {
     "data": {
      "image/png": "[encoded data removed]",
      "text/latex": [
       "$\\displaystyle \\frac{125.0 \\sqrt{6} NA \\sqrt{\\frac{h^{3}}{G c}}}{\\pi m}$"
      ],
      "text/plain": [
       "                 _____\n",
       "                ╱  3  \n",
       "               ╱  h   \n",
       "125.0⋅√6⋅NA⋅  ╱   ─── \n",
       "            ╲╱    G⋅c \n",
       "──────────────────────\n",
       "         π⋅m          "
      ]
     },
     "execution_count": 17,
     "metadata": {},
     "output_type": "execute_result"
    }
   ],
   "source": [
    "# Don't forget to multiply NA by 1e3 to transform grams to kilograms\n",
    "L = sqrt(3*h**3/(2*c*G))*(1e3*NA)/(4*pi*m)\n",
    "L"
   ]
  },
  {
   "cell_type": "code",
   "execution_count": 18,
   "metadata": {},
   "outputs": [
    {
     "data": {
      "image/png": "[encoded data removed]",
      "text/latex": [
       "$\\displaystyle 7769060.49428712$"
      ],
      "text/plain": [
       "7769060.49428712"
      ]
     },
     "execution_count": 18,
     "metadata": {},
     "output_type": "execute_result"
    }
   ],
   "source": [
    "L0=(L.subs({NA:sc.N_A, h:sc.h, c:sc.c, G:sc.G, m:sc.m_e})).evalf()\n",
    "L0"
   ]
  },
  {
   "cell_type": "code",
   "execution_count": 19,
   "metadata": {},
   "outputs": [
    {
     "name": "stdout",
     "output_type": "stream",
     "text": [
      "The radius (in solar units) for the white-dwarf model with T=0 K is\n",
      "R =  7.70162784749564e-7\n"
     ]
    }
   ],
   "source": [
    "R=y0*L0*f(0)/ac.R_sun.value\n",
    "print (\"The radius (in solar units) for the white-dwarf model with T=0 K is\")\n",
    "print (\"R = \",R)"
   ]
  },
  {
   "cell_type": "code",
   "execution_count": 20,
   "metadata": {},
   "outputs": [
    {
     "name": "stdout",
     "output_type": "stream",
     "text": [
      "The Chandrasekhar mass limit (in solar masses) for the white-dwarf model with T=0 K is\n",
      "MCh =  1.45629871125147\n"
     ]
    }
   ],
   "source": [
    "mu1=-f(0)**2*g(f(0))\n",
    "mue=2.0 # for a CO WD\n",
    "M=4*pi*B0*L0**3/mue**2*mu1\n",
    "print (\"The Chandrasekhar mass limit (in solar masses) for the white-dwarf model with T=0 K is\")\n",
    "print (\"MCh = \",M.evalf()/ac.M_sun.value)"
   ]
  },
  {
   "cell_type": "markdown",
   "metadata": {
    "collapsed": true,
    "jupyter": {
     "outputs_hidden": true
    }
   },
   "source": [
    "### Use solutions of the above differential equation to plot the mass-radius relation for the zero-T white dwarfs."
   ]
  },
  {
   "cell_type": "markdown",
   "metadata": {},
   "source": [
    "<center>\n",
    "<h6>Phase space of thermal (ideal) electron gas</h6>>\n",
    "<img src=\"img/ElectronsIdealGas.png\", width=750>\n",
    "</center>"
   ]
  },
  {
   "cell_type": "markdown",
   "metadata": {},
   "source": [
    "<center>\n",
    "<h6>Phase space of degenerate electron gas</h6>>\n",
    "<img src=\"img/ElectronsDegenerateGas.png\", width=750>\n",
    "</center>"
   ]
  },
  {
   "cell_type": "code",
   "execution_count": null,
   "metadata": {},
   "outputs": [],
   "source": []
  }
 ],
 "metadata": {
  "anaconda-cloud": {},
  "kernelspec": {
   "display_name": "Python 3 (ipykernel)",
   "language": "python",
   "name": "python3"
  },
  "language_info": {
   "codemirror_mode": {
    "name": "ipython",
    "version": 3
   },
   "file_extension": ".py",
   "mimetype": "text/x-python",
   "name": "python",
   "nbconvert_exporter": "python",
   "pygments_lexer": "ipython3",
   "version": "3.11.8"
  }
 },
 "nbformat": 4,
 "nbformat_minor": 4
}
