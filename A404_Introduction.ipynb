{
 "cells": [
  {
   "cell_type": "code",
   "execution_count": 1,
   "metadata": {
    "slideshow": {
     "slide_type": "skip"
    }
   },
   "outputs": [],
   "source": [
    "from IPython.display import Image, HTML, display"
   ]
  },
  {
   "cell_type": "markdown",
   "metadata": {
    "editable": true,
    "slideshow": {
     "slide_type": "slide"
    },
    "tags": []
   },
   "source": [
    "<center> \n",
    "<h1> ASTR 404 </h1>\n",
    "<h2> Introduction to Stellar [Astro]physics </h2>\n",
    "($\\alpha\\sigma\\tau\\eta\\rho$ means ``a star'' in Greek)\n",
    "</center>"
   ]
  },
  {
   "cell_type": "markdown",
   "metadata": {
    "slideshow": {
     "slide_type": "slide"
    }
   },
   "source": [
    "<center>\n",
    "<h4> The Evolution of the Universe </h4>\n",
    "<img src=\"img/BigBang.jpg\", width=800>\n",
    "\n",
    "<small>The present age of the Universe is 13.8 Gyr. During inflation, between $10^{-36}$ s and $10^{-32}$ s, the Universe had expanded by a factor of at least $e^{60}\\approx 10^{26}$, probably starting from the Planck size \n",
    "$l_\\mathrm{P} = \\sqrt{\\frac{Gh}{2\\pi c^3}} = 1.62\\times 10^{-35}$ m.</small>\n",
    "</center>"
   ]
  },
  {
   "cell_type": "markdown",
   "metadata": {
    "slideshow": {
     "slide_type": "slide"
    }
   },
   "source": [
    "<center>\n",
    "<h4> Cosmic microway radiation mesured by WMAP </h4>\n",
    "<img src=\"img/thumbnail_big.jpg\", width=800>\n",
    "</center>"
   ]
  },
  {
   "cell_type": "markdown",
   "metadata": {
    "slideshow": {
     "slide_type": "slide"
    }
   },
   "source": [
    "<center>\n",
    "<h3> What is the Universe Made Of? (WMAP, NASA)</h3>\n",
    "<img src=\"img/WMAPPieChart.png\", width=800>\n",
    "</br>\n",
    "<h4> Only about 10% of atoms (less than 0.5% of the total content of the Universe) are in stars, the rest of them being in the form of intergalactic gas</h4>\n",
    "</center>"
   ]
  },
  {
   "cell_type": "markdown",
   "metadata": {
    "slideshow": {
     "slide_type": "slide"
    }
   },
   "source": [
    "<center>\n",
    "<h4> But stars make the most of the glowing matter of the Milky Way </h4>\n",
    "<img src=\"img/MWCentre.jpg\", width=1200>\n",
    "</center>"
   ]
  },
  {
   "cell_type": "markdown",
   "metadata": {
    "slideshow": {
     "slide_type": "slide"
    }
   },
   "source": [
    "<center>\n",
    "<h4> and of other galaxies </h4>\n",
    "<img src=\"img/DistantGalaxies.jpg\", width=1200>\n",
    "</center>"
   ]
  },
  {
   "cell_type": "markdown",
   "metadata": {
    "slideshow": {
     "slide_type": "slide"
    }
   },
   "source": [
    "<center>\n",
    "<h4> The Big Bang Nucleosynthesis </h4>\n",
    "<img src=\"img/BBN_iso_time.jpg\", width=1000>\n",
    "</center>"
   ]
  },
  {
   "cell_type": "markdown",
   "metadata": {
    "slideshow": {
     "slide_type": "slide"
    }
   },
   "source": [
    "<h3><center>Mass fractions of light isotopes</center></h3>\n",
    "\n",
    "| Isotope | Big Bang  | Solar |\n",
    "|-------------- | ------------- | ------------- |\n",
    "| $^1$H | 0.753              | 0.715          |\n",
    "| $^2$H | 1.94e-5  | 1.43e-5 |\n",
    "| $^3$He | 7.53e-6  | 4.49e-5 |\n",
    "| $^4$He | 0.247  | 0.270 |\n",
    "| $^6$Li | 9.70e-15  | 6.44e-10 |\n",
    "| $^7$Li | 3.50e-10  | 9.15e-9 |\n"
   ]
  },
  {
   "cell_type": "markdown",
   "metadata": {
    "slideshow": {
     "slide_type": "slide"
    }
   },
   "source": [
    "<center>\n",
    "<h4>All the chemical elements heavier than Li were synthesized in stars (in the so-called \"stellar nucleosynthesis\").</h4>\n",
    "<center>\n",
    "<img src=\"img/PeriodicTable.png\", width=1000>\n",
    "</center>"
   ]
  },
  {
   "cell_type": "markdown",
   "metadata": {
    "slideshow": {
     "slide_type": "slide"
    }
   },
   "source": [
    "<center>\n",
    "<img src=\"img/human-body-infographics.jpg\", width=1000>\n",
    "</center>"
   ]
  },
  {
   "cell_type": "markdown",
   "metadata": {
    "slideshow": {
     "slide_type": "slide"
    }
   },
   "source": [
    "<center>\n",
    "<img src=\"img/EarthComposition.jpg\", width=800>\n",
    "</center>"
   ]
  },
  {
   "cell_type": "markdown",
   "metadata": {
    "slideshow": {
     "slide_type": "slide"
    }
   },
   "source": [
    "<center>\n",
    "<h4>Solar system elemental abundances</h4>\n",
    "<img src=\"img/SolarComposition.jpg\", width=1100>\n",
    "</center>"
   ]
  },
  {
   "cell_type": "markdown",
   "metadata": {
    "slideshow": {
     "slide_type": "slide"
    }
   },
   "source": [
    "<center>\n",
    "<h4> The Sun has so far been the most important source of energy</h4>\n",
    "<img src=\"img/SolarEnergy.jpg\", width=1000>\n",
    "</center>"
   ]
  },
  {
   "cell_type": "markdown",
   "metadata": {
    "slideshow": {
     "slide_type": "slide"
    }
   },
   "source": [
    "<center>\n",
    "<h3> Physics of stellar interiors benefits from</h3>\n",
    "<ul style=\"margin-left: 8px; margin-right: 8px;\">\n",
    "<li>Classical mechanics</li>\n",
    "<li>Hydrodynamics</li>\n",
    "<li> Radiative transfer theory</li>\n",
    "<li>Thermodynamics and statistical mechanics</li>\n",
    "<li>Atomic and molecular physics</li>\n",
    "<li>Nuclear physics</li>\n",
    "<li>Quantum mechanics</li>\n",
    "<li> General relativity</li>\n",
    "<li>Electromagnetism</li>\n",
    "<li>Solid-state physics</li>\n",
    "</ul>\n",
    "<h4> and deals with matter in conditions that are not attainable\n",
    "in laboratory experiments on the Earth</h4>\n",
    "</center>"
   ]
  },
  {
   "cell_type": "markdown",
   "metadata": {
    "slideshow": {
     "slide_type": "slide"
    }
   },
   "source": [
    "<center>\n",
    "<h3>Definition of a star</h3>\n",
    "</center>\n",
    "</br>\n",
    "<h4> A star is a gravitationally bound spatially isolated mass of baryonic matter\n",
    "that is opaque for radiation, in which thermonuclear reactions transforming hydrogen into helium\n",
    "had either occurred in the past, occurring at present, or will occur in the future on a relatively large scale."
   ]
  },
  {
   "cell_type": "markdown",
   "metadata": {
    "slideshow": {
     "slide_type": "slide"
    }
   },
   "source": [
    "<center>\n",
    "<img src=\"img/flow_chart.jpeg\", width=1200>\n",
    "</center>"
   ]
  },
  {
   "cell_type": "markdown",
   "metadata": {
    "slideshow": {
     "slide_type": "slide"
    }
   },
   "source": [
    "<center>\n",
    "<img src=\"img/RadPencil.jpeg\", width=1200>\n",
    "</center>"
   ]
  },
  {
   "cell_type": "markdown",
   "metadata": {
    "slideshow": {
     "slide_type": "slide"
    }
   },
   "source": [
    "The intensity of radiation $I_\\nu(t,\\mathbf{r},\\mathbf{n})$ is defined as follows: \n",
    "$$\n",
    "dE_\\nu(\\mathbf{n}) = I_\\nu d\\nu dAd\\Omega dt\n",
    "$$\n",
    "is the energy of radiation flowing through the surface area $dA$ in the direction of the unit vector $\\mathbf{n}$ perpendicular to $dA$ within the solid angle $d\\Omega$ about the vector $\\mathbf{n}$ during the time interval $dt$ and in the range of frequency $[\\nu,\\nu+d\\nu ]$.\n",
    "\n",
    "The flux of radiation through the fixed surface area $dA$ in the fixed direction $\\mathbf{n}$ is defined as the above energy integrated over the entire solid angle $4\\pi$. In this integration we have to vary the direction $\\mathbf{n}'$ of the intensity, i.e. now $I_\\nu = I_\\nu(t,\\mathbf{r},\\mathbf{n}')$, considering all possible angles $(\\theta,\\varphi)$ between the two unit vectors $\\mathbf{n}$ and $\\mathbf{n}'$ and taking into account that the projection of the fixed surface area $dA$ on a plane perpendicular to $\\mathbf{n}'$ is $dA\\cos\\theta$. As a result, the flux of radiation is equal to\n",
    "$$\n",
    "f_\\nu(t,\\mathbf{r},\\mathbf{n}) = \\frac{dE_\\nu(\\mathrm{from\\ all\\ }\\mathbf{n}')}{d\\nu dA dt} =\n",
    "\\int_0^{2\\pi}\\int_0^\\pi I_\\nu(t,\\mathbf{r},\\mathbf{n}')\\cos\\theta\\sin\\theta d\\theta d\\varphi.\n",
    "$$\n",
    "For isotropic radiation, such that $I_\\nu$ does not depend on $\\theta$ and $\\varphi$, the monochromatic, i.e. for a given frequency $\\nu$, flux of radiation into the upper hemisphere is equal to $f_\\nu = \\pi I_\\nu$, while the total flux into the upper and lower hemisphere is zero."
   ]
  },
  {
   "cell_type": "markdown",
   "metadata": {
    "slideshow": {
     "slide_type": "slide"
    }
   },
   "source": [
    "For the black-body (BB) radiation $I_\\nu = B_\\nu$, where\n",
    "$$\n",
    "B_\\nu = B_\\nu (T) = \\frac{2h\\nu^3}{c^2}\\frac{1}{e^{h\\nu /kT}-1}\n",
    "$$\n",
    "is the Planck function, and the monochromatic flux is $f_\\nu = \\pi B_\\nu$.\n",
    "\n",
    "The integrated BB radiation flux is\n",
    "$$\n",
    "f = \\int_0^{+\\infty}f_\\nu d\\nu = \\int_0^{+\\infty}\\pi B_\\nu d\\nu = \\sigma T^4,\n",
    "$$\n",
    "where $\\sigma = 5.67\\times 10^{-8}\\ \\mathrm{W\\,m}^{-2}\\mathrm{K}^{-4}$ is the Stephan-Boltzmann constant.\n",
    "The expression\n",
    "$$\n",
    "B_\\lambda = \\frac{2\\pi hc^2}{\\lambda^5}\\frac{1}{e^{hc/kT\\lambda}-1}\n",
    "$$\n",
    "for the Planck function can be obtained from the relationships $B_\\nu d\\nu = B_\\lambda d\\lambda$ and\n",
    "$\\nu = c/\\lambda$, where $\\lambda$ is the radiation wave length. $B_\\lambda$ has a maximum at \n",
    "$\\lambda = \\lambda_\\mathrm{max}$, where, according to Wien's displacement law,\n",
    "$$\n",
    "\\lambda_\\mathrm{max} = \\frac{2.898\\times 10^6\\ \\mathrm{nm\\,K}}{T}.\n",
    "$$"
   ]
  },
  {
   "cell_type": "markdown",
   "metadata": {
    "slideshow": {
     "slide_type": "slide"
    }
   },
   "source": [
    "**Absorption of radiation**\n",
    "\n",
    "When radiation passes a distance $ds$ through an absorbing medium its initial intensity $I_\\nu$ is reduced by $dI_\\nu = -\\alpha_\\nu I_\\nu ds < 0$, where $\\alpha_\\nu$ is called the absorption coefficient. If the medium has a density $\\rho$ then $\\varkappa_\\nu = \\alpha_\\nu/\\rho$ is called the opacity. From the definition of $\\alpha_\\nu$, we find how the intensity is reduced with the distance travelled by radiation\n",
    "$$\n",
    "I_\\nu(s) = I_\\nu(0) e^{-\\tau_\\nu (s)},\n",
    "$$\n",
    "where $\\tau_\\nu (s) = \\int_0^s\\alpha_\\nu ds$ is called the optical depth. When $\\tau_\\nu > 1$ then the medium is opaque for the radiation with the given $\\nu$. Photons with a frequency $\\nu$ can travel free, without interacting with the medium, only such a distance $s$ that $\\tau_\\nu (s) = 1$."
   ]
  },
  {
   "cell_type": "markdown",
   "metadata": {
    "slideshow": {
     "slide_type": "slide"
    }
   },
   "source": [
    "<center>\n",
    "<h4>The Weber-Fechner psychophysical law of human perception\n",
    "relates the actual change in a physical stimulus with the perceived change.</h4>\n",
    "<img src=\"img/WeberFechner.png\", width=600>\n",
    "</center>"
   ]
  },
  {
   "cell_type": "markdown",
   "metadata": {
    "slideshow": {
     "slide_type": "slide"
    }
   },
   "source": [
    "<center>\n",
    "<img src=\"img/PrimaryColors.png\", width=800>\n",
    "</center>"
   ]
  },
  {
   "cell_type": "markdown",
   "metadata": {
    "slideshow": {
     "slide_type": "slide"
    }
   },
   "source": [
    "**Magnitudes and colors**\n",
    "\n",
    "The luminosity of a star is $L = 4\\pi R^2 \\sigma T_\\mathrm{eff}^4$ is the integrated flux through the entire surface of the star directed outside. However, usually only fluxes integrated over relatively narrow ranges of frequency are measured, e.g. by human eyes. For their comparison, say in photometric band A (for a range of frequency $[\\lambda_1,\\lambda_2]$) , astronomers use stellar magnitudes defined as\n",
    "$$\n",
    "m_A = -2.5\\log_{10}\\frac{\\int_{\\lambda_1}^{\\lambda_2}f_\\lambda S_\\lambda d\\lambda}{\\int_{\\lambda_1}^{\\lambda_2}f_\\lambda^0 S_\\lambda d\\lambda} + m_A^0,\n",
    "$$\n",
    "where $S_\\lambda$ is the response, or transmission function for the photometric band A, the upper index 0 indicated data for a reference (zero point) star, and the monochromatic fluxes $f_\\lambda$ and $f_\\lambda^0$ are assumed to be measured at the top of Earth's atmosphere.\n",
    "\n",
    "$f_A = \\int_{\\lambda_1}^{\\lambda_2}f_\\lambda S_\\lambda d\\lambda$ is the integrated flux measured in the photometric band A.\n",
    "\n",
    "From  ancient Greek observations, \n",
    "$$\n",
    "m_\\mathrm{visual}(1) - m_\\mathrm{visual}(6) = -5 = -2.5\\log_{10}\\frac{f_\\mathrm{visual}(1)}{f_\\mathrm{visual}(6)},\n",
    "$$\n",
    "where $f_\\mathrm{visual}(1)/f_\\mathrm{visual}(6) = 100.$ Therefore,\n",
    "$$\n",
    "\\frac{f_A(m_A)}{f_A(m_A +1)} = 100^\\frac{1}{5} = 10^\\frac{2}{5} = 10^{0.4} = 2.512.\n",
    "$$\n",
    "\n",
    "Colors are measured using the differences of magnitidues in different photometric bands, e.g.\n",
    "$m_A - m_B = (A-B)$ is the $A-B$ color or color index."
   ]
  },
  {
   "cell_type": "markdown",
   "metadata": {
    "slideshow": {
     "slide_type": "slide"
    }
   },
   "source": [
    "$m_A$ is the apparent magnitude that measures the apparent flux $f_\\lambda = \\left(\\frac{R}{d}\\right)^2F_\\lambda$ integrated over the wave-length range $[\\lambda_1,\\lambda_2]$ of the photometric band $A$ in which its transmission function $S_\\lambda\\neq 0$. Here, $R$ is the radius of a star, $d$ is a distance to it, and it is assumed that there is no absorption of radiation.\n",
    "\n",
    "To compare stars by their magnitudes they are \"placed\" at the same distance of $d = 10$ parsec (pc), where\n",
    "1 pc is the distance from which 1 astronomical unit, 1AU$\\,\\approx 1.496\\times 10^{11}$ m  (the approximate distance from Earth to the Sun), subtends an angle of 1 second (parsec = parallax of one second).\n",
    "\n",
    "1 pc$\\,=206265\\ \\mathrm{AU}=3.09\\times 10^{16}\\ \\mathrm{m}=3.26\\ $ light years.\n",
    "\n",
    "Obviously, $d_\\mathrm{pc} = \\frac{1}{\\pi''}$, where $\\pi''$ is star's paralax (the semi-major axis of the ellipse\n",
    "the star describes on the sky during one year), e.g. see https://www.esa.int/Science_Exploration/Space_Science/Gaia.\n",
    "\n",
    "The magnitude of a star \"placed\" at 10 pc is called its absolute magnitude $M_A$, and because $f_\\lambda(d_\\mathrm{pc}) = \\left(\\frac{10\\,\\mathrm{pc}}{d_\\mathrm{pc}}\\right)^2f_\\lambda (10\\,\\mathrm{pc})$,\n",
    "$$\n",
    "M_A = m_A - 5\\log_{10}d_\\mathrm{pc} + 5.\n",
    "$$\n",
    "\n",
    "$m_A- M_A = (m-M)_A$ is called the distance modulus. If it's known then $d_\\mathrm{pc} = 10^{1+0.2(m_A-M_A)}$.\n",
    "\n",
    "Given that $f_\\lambda = \\left(\\frac{R}{d}\\right)^2F_\\lambda$ and $M_A = m_A(d=10\\,\\mathrm{pc})$, from the definition of the stellar magnitude we find that\n",
    "\n",
    "$$\n",
    "M_A = -2.5\\log_{10}\\left[\\frac{\\int_{\\lambda_1}^{\\lambda_2}F_\\lambda S_\\lambda d\\lambda}{\\int_{\\lambda_1}^{\\lambda_2}f_\\lambda^0 S_\\lambda d\\lambda}\\left(\\frac{R}{10\\,\\mathrm{pc}}\\right)^2\\right] + m_A^0.\n",
    "$$\n",
    "**Note** that the nominator uses the surface flux of the star $F_\\lambda$, and that the same definitions are also true for the Sun!"
   ]
  },
  {
   "cell_type": "markdown",
   "metadata": {
    "slideshow": {
     "slide_type": "slide"
    }
   },
   "source": [
    "If $\\lambda_1 = 0$, $\\lambda_2 = +\\infty$, and $S_\\lambda = 1$ we get the so-called bolometric magnitude. Then, subtracting the solar bolometric absolute magnitude $M_\\mathrm{bol}^\\odot = 4.75$ from $M_\\mathrm{bol}$ of a star, we find that\n",
    "$$\n",
    "M_\\mathrm{bol} = M_\\mathrm{bol}^\\odot - 2.5\\log_{10}\\frac{L}{L_\\odot},\n",
    "$$\n",
    "because $R^2\\int_0^{+\\infty}F_\\lambda d\\lambda = R^2 F = R^2\\sigma T_\\mathrm{eff}^4 =\\frac{L}{4\\pi}$.\n",
    "Thus, the bolometric absolute magnitude of a star automatically gives its luminosity.\n",
    "$M_\\mathrm{bol}$ of a star can be found from its absolute magnitude in a photometric band $A$, the latter needs knowing the distance to the star, if we know the so-called bolometric correction\n",
    "\n",
    "$$\n",
    "BC_A = M_\\mathrm{bol} - M_A = M_\\mathrm{bol}^\\odot - 2.5\\log_{10}\\frac{L}{L_\\odot} - M_A = \\\\\n",
    "4.75 - 2.5\\log_{10}\\frac{L}{L_\\odot} - \\left\\{-2.5\\log_{10}\\left[\\frac{\\int_{\\lambda_1}^{\\lambda_2}F_\\lambda S_\\lambda d\\lambda}{\\int_{\\lambda_1}^{\\lambda_2}f_\\lambda^0 S_\\lambda d\\lambda}\\left(\\frac{R}{10\\,\\mathrm{pc}}\\right)^2\\right] + m_A^0\\right\\} = \n",
    "$$\n",
    "$$\n",
    "4.75 - 2.5\\log_{10}\\left[\\frac{4\\pi (10\\,\\mathrm{pc})^2\\sigma T_\\mathrm{eff}^4}{L_\\odot}\\right] + \\\\\n",
    "2.5\\log_{10}\\left[\\frac{\\int_{\\lambda_1}^{\\lambda_2}F_\\lambda S_\\lambda d\\lambda}{\\int_{\\lambda_1}^{\\lambda_2}f_\\lambda^0 S_\\lambda d\\lambda}\\right] - m_A^0.\n",
    "$$\n",
    "\n",
    "Given that the monochromatic flux (spectrum) of the star $F_\\lambda = F_\\lambda (T_\\mathrm{eff},g,X_i)$ can be provided either by stellar model atmospheres or by observations of stars with well known distances, the bolometric corrections depend on $T_\\mathrm{eff}$, $g=(GM/R^2)$, $X_i$, $f_\\lambda^0$, $m_A^0$ and $S_\\lambda$."
   ]
  },
  {
   "cell_type": "markdown",
   "metadata": {
    "slideshow": {
     "slide_type": "slide"
    }
   },
   "source": [
    "A photometric system is determined by its selected photometric bands with wave-length ranges $[\\lambda_1,\\lambda_2]$ and their corresponding transmission functions $S_\\lambda$, and with \"zero\" points $f_\\lambda^0$ and $m_A^0$.\n",
    "\n",
    "In both the popular Johnson-Cousins **UBVRI (JHKLMN)** and HST/WFPC2 VEGA mag systems the star Vega ($\\alpha$ Lyrae) is used for the zero points. In the Johnson-Cousins system, Vega is assigned $m_V = 0$, and all $m_A - m_B = 0$ as well. In the HST system, Vega also has $m_V =0$, but some colors have slightly different values.\n",
    "\n",
    "$f_\\lambda^0$ for Vega is taken from its model atmosphere, $F_\\lambda(\\mathrm{Vega})$ for $T_\\mathrm{eff} = 9550$ K,\n",
    "$\\log_{10}g = 3.95$ (here, $g$ in $\\mathrm{cm\\,s}^{-2}$), and [Fe/H]$\\,=-0.5$, where\n",
    "$$\n",
    "[\\mathrm{A/B}] = \\log_{10}\\frac{n_\\mathrm{A}}{n_\\mathrm{B}} - \n",
    "\\log_{10}\\left(\\frac{n_\\mathrm{A}}{n_\\mathrm{B}}\\right)_\\odot = \\log_{10}\\frac{X_\\mathrm{A}}{X_\\mathrm{B}} - \n",
    "\\log_{10}\\left(\\frac{X_\\mathrm{A}}{X_\\mathrm{B}}\\right)_\\odot,\n",
    "$$\n",
    "so that $[\\mathrm{Fe/H}]_\\odot = 0$.\n",
    "\n",
    "From the measurement of the ratio $\\frac{f_\\lambda^0}{F_\\lambda^0} = \\left(\\frac{R}{d}\\right)^2$ for Vega at\n",
    "$\\lambda = 555.6$ nm, it is estimated that $ \\left(\\frac{R}{d}\\right)^2 = 6.247\\times 10^{-17}$ for it."
   ]
  },
  {
   "cell_type": "markdown",
   "metadata": {
    "slideshow": {
     "slide_type": "slide"
    }
   },
   "source": [
    "**The effect of interstellar extinction**\n",
    "\n",
    "The monochromatic flux at the top of Earth's atmosphere is $f_\\lambda = \\pi I_\\lambda = f_{\\lambda,0}e^{-\\tau_\\lambda},$ where for the Milky-Way (MW) interstellar medium (ISM) $\\tau_\\lambda\\propto \\frac{1}{\\lambda}$ in the optical part of the spectrum. Therefore, $m_A = m_{A,0} + A_A,$ where $A_A$ is called extinction, or attenuation.\n",
    "For Vega, $A_A = 0$ in all photometric bands. The interstellar extinction is produced by the absorption and scattering of radiation by gas and dust particles that present in the ISM. It affects both stellar magnitudes and colors. Indeed, for a color index\n",
    "$$\n",
    "(A-B) = m_A - m_B = (m_{A,0} - m_{B,0}) + (A_A - A_B) = (A-B)_0 + E(A-B),\n",
    "$$\n",
    "where $(A-B)_0$ is the true color, $(A-B)$ is the apparent color, and $E(A-B)$ is called the color excess, or reddening. The interstellar extinction shifts the true color toward redder apparent colors.\n",
    "\n",
    "In the Johnson-Cousins system, for the MW galaxy, the good approximations are provided by the following **extinction law**:\n",
    "\n",
    "$$\n",
    "A_U = 1.53\\,A_V,\\ A_B = 1.32\\,A_V,\\ A_R = 0.82\\,A_V,\\ A_I = 0.60\\,A_V, \\\\\n",
    "A_J = 0.29\\,A_V,\\ A_H = 0.17\\,A_V,\\ A_K = 0.11\\,A_V,\\ A_L = 0.06\\,A_V.\n",
    "$$\n",
    "\n",
    "If we introduce the ratio $R_V = \\frac{A_V}{E(B-V)} =\\frac{A_V}{A_B - A_V} = \\frac{1}{(A_B/A_V)-1} = \\frac{1}{0.32} = 3.12,$ then $A_V = R_V\\,E(B-V) = 3.12\\,E(B-V)$ for the MW galaxy. In practice, $E(B-V)$ is usually determined empirically, then we can find $A_V$ and other extinctions.\n",
    "\n",
    "For a detailed 3D extinction map of the MW galaxy, see http://argonaut.skymaps.info."
   ]
  },
  {
   "cell_type": "markdown",
   "metadata": {
    "slideshow": {
     "slide_type": "slide"
    }
   },
   "source": [
    "<center>\n",
    "<h3> HRD (Hertzsprung-Russel diagram) of MESA ZAMS (Zero-Age Main Sequence) for [Fe/H]=0 (Asplund et al. 2009) </h3>\n",
    "<img src=\"img/my_zams.png\", width=800>\n",
    "</br>\n",
    "<h4> The diagonal dashed lines are the lines of constant radius ($\\log_{10}(R/R_\\odot) = -2, 0, 2$). \n",
    "$L=4\\pi R^2\\sigma T_\\mathrm{eff}^4$, therefore $\\log_{10}(L/L_\\odot) = 4\\log_{10}(T_\\mathrm{eff}/5777\\,\\mathrm{K})+2\\log_{10}(R/R_\\odot)$.</h4>\n",
    "</center>"
   ]
  },
  {
   "cell_type": "markdown",
   "metadata": {
    "slideshow": {
     "slide_type": "slide"
    }
   },
   "source": [
    "<center>\n",
    "<small>(O class) Hottest Stars: T>30,000 K; Strong He+ lines; no H lines (or only very weak at O9).\n",
    "From http://www.astronomy.ohio-state.edu/~pogge/Ast162/Unit1/sptypes.html</small>\n",
    "<img src=\"img/O5vSpectrum.gif\", width=600>\n",
    "<small>(B class) T = 11,000 - 30,000 K; Strong neutral He lines; very weak H lines, getting stronger from B0 through B9.</small>\n",
    "<img src=\"img/B0vSpectrum.gif\", width=600>\n",
    "<small>(A class) T = 7500 - 11,000 K; Strongest H lines, Weak Ca+ lines emerge towards A9 types.</small> \n",
    "<img src=\"img/A5vSpectrum.gif\", width=600>\n",
    "<small>(F class) T = 5900 - 7500 K; H grows weaker through F9, Ca+ grows stronger, weak metals begin to emerge.</small>\n",
    "<img src=\"img/F5vSpectrum.gif\", width=600>\n",
    "<small>(G class, the Sun is a G2V star) T = 5200 - 5900 K; Strong Ca+, Fe+ and other metals dominate, H grows weaker through the class.</small>\n",
    "<img src=\"img/G0vSpectrum.gif\", width=600>\n",
    "<small>(K class) T = 3900 - 5200 K; Strong metal lines, weak CH & CN molecular bands begin to appear, growing through the class. H lines nearly gone.</small>\n",
    "<img src=\"img/K0vSpectrum.gif\", width=600>\n",
    "<small>(M class) Cool Stars: T = 2500 - 3900 K; strong molecular absorption bands particularly of TiO and VO emerge and strengthen, as do lines of neutral metals. Virtually no H lines anymore.</small>\n",
    "<img src=\"img/M0vSpectrum.gif\", width=600>\n",
    "</center>"
   ]
  },
  {
   "cell_type": "markdown",
   "metadata": {
    "slideshow": {
     "slide_type": "slide"
    }
   },
   "source": [
    "<center>\n",
    "<img src=\"img/K4VandUBVRI.png\", width=1000>\n",
    "</center>"
   ]
  },
  {
   "cell_type": "markdown",
   "metadata": {
    "slideshow": {
     "slide_type": "slide"
    }
   },
   "source": [
    "<center>\n",
    "<img src=\"img/K4Vspectrum.png\", width=800>\n",
    "</center>\n",
    "<center>\n",
    "<img src=\"img/K4Vtheory.png\", width=800>\n",
    "</center>"
   ]
  },
  {
   "cell_type": "markdown",
   "metadata": {
    "slideshow": {
     "slide_type": "slide"
    }
   },
   "source": [
    "<center>\n",
    "<img src=\"img/K4Vspectrum.png\", width=800>\n",
    "</center>\n",
    "<center>\n",
    "<img src=\"img/A13Vspectrum.png\", width=800>\n",
    "</center>"
   ]
  },
  {
   "cell_type": "markdown",
   "metadata": {
    "slideshow": {
     "slide_type": "slide"
    }
   },
   "source": [
    "<center>\n",
    "<h6>Stellar masses from binary systems</h6>\n",
    "<img src=\"img/BinaryStarMass.png\",width=1000>\n",
    "</center>\n",
    "<small>CSIRO</small>"
   ]
  },
  {
   "cell_type": "markdown",
   "metadata": {
    "slideshow": {
     "slide_type": "slide"
    }
   },
   "source": [
    "For visual binary star systems, $m_A r_A = m_B r_B$, and $r = r_A + r_B$. Therefore,\n",
    "$$\n",
    "r_A = \\frac{m_B r}{M},\n",
    "$$\n",
    "where $M = m_A + m_B$.\n",
    "Equating the gravitational (from the star B) and centrifugal (relative to the barycenter) forces acting on the star A leads to\n",
    "$$\n",
    "\\frac{Gm_A m_B}{r^2} = m_A\\frac{v_A^2}{r_A}.\n",
    "$$\n",
    "Given that $v_A = (2\\pi r_A)/P$, where $P$ is the period of the binary star, we find that\n",
    "$$\n",
    "\\frac{Gm_B}{r^2} = \\frac{4\\pi^2 r_A}{P^2}.\n",
    "$$\n",
    "Expressing $r_A$ from the last equation and substituting it into the first equation, we arrive at Kepler's third law\n",
    "$$\n",
    "\\frac{Gm_B}{r^2} = \\frac{4\\pi^2 m_B r}{P^2 M},\n",
    "$$\n",
    "or\n",
    "$$\n",
    "m_A + m_B = \\frac{4\\pi^2 r^3}{GP^2}.\n",
    "$$\n",
    "Unfortunately, $r\\propto d$, and in most binary systems the inclination angle $i$ is not equal to zero, therefore $r$ should be replaced by $r\\sin i$.\n",
    "Finally,\n",
    "$$\n",
    "m_A = M\\frac{(r-r_A)}{r}.\n",
    "$$\n",
    "For spectroscopic binaries, $r$ and $P$ are determined from $v_A$ and $v_B$ ($\\sin i$ ?). For eclipsing binaries $i = 90^\\circ$."
   ]
  },
  {
   "cell_type": "markdown",
   "metadata": {
    "slideshow": {
     "slide_type": "slide"
    }
   },
   "source": [
    "<center>\n",
    "<h6> Algol image from CHARA (Center for High Angular Resolution Astronomy)</h6>\n",
    "<img src=\"img/algol_animated.gif\", width=400>\n",
    "<img src=\"img/AlgolLightCurve.gif\",width=600>\n",
    "</center>\n",
    "<small>Reference: Baron et al. 2012, ApJ, 752, 20.</small>\n",
    "<small>CHARA is the inteferometric system of six 1 meter telescopes with the maximum baseline of 330 m that\n",
    "allows to reach angular resolution 200$\\,\\mu$s (a nickel at 10000 miles).</small>"
   ]
  },
  {
   "cell_type": "markdown",
   "metadata": {
    "slideshow": {
     "slide_type": "slide"
    }
   },
   "source": [
    "<center>\n",
    "<h6> Stellar diameters measured in CHARA (Center for High Angular Resolution Astronomy)</h6>\n",
    "<img src=\"img/HR_diagram_CHARA.png\", width=1000>\n",
    "</center>\n",
    "<small>References:\n",
    "Boyajian et al. 2012, ApJ, 746, 101;\n",
    "Boyajian et al. 2012, ApJ, 757, 112;\n",
    "Boyajian et al. 2013, ApJ, 771, 40.</small>"
   ]
  },
  {
   "cell_type": "markdown",
   "metadata": {
    "collapsed": true,
    "jupyter": {
     "outputs_hidden": true
    },
    "slideshow": {
     "slide_type": "slide"
    }
   },
   "source": [
    "<center>\n",
    "<h6> Images of rapid rotators from CHARA (Center for High Angular Resolution Astronomy)</h6>\n",
    "<img src=\"img/rapid_rotator_crop.png\", width=1000>\n",
    "</center>\n",
    "<small>References:\n",
    "Regulus from Che et al. 2011, ApJ, 732, 68;\n",
    "Rasalhague from Zhao et al. 2009, ApJ, 701, 209;\n",
    "Altair from Monnier et al. 2007, Science, 317, 324;\n",
    "Alderamin from Zhao et al. 2009, ApJ, 701, 209;\n",
    "Beta Cas from Che et al. 2011, ApJ, 732, 68.</small>"
   ]
  },
  {
   "cell_type": "markdown",
   "metadata": {
    "collapsed": true,
    "jupyter": {
     "outputs_hidden": true
    },
    "slideshow": {
     "slide_type": "slide"
    }
   },
   "source": [
    "**The main relationships between stellar parameters**\n",
    "\n",
    "The stellar parameters are $M$, $R$, $L$, $T_\\mathrm{eff}$, $X_i$, and $t$.\n",
    "\n",
    "A star is born with some initial mass $M_0 = M(t=0)$ and initial chemical composition $X_i(0)$.\n",
    "In a simple stellar population, e.g. in an open cluster, all stars were by definition born at a same time $t=0$, with\n",
    "a same initial composition, but with different initial masses described by the so-called initial mass function (IMF), e.g. $n(M_0)dM_0 = C M_0^{-2.35}dM_0$ (the Salpeter IMF).\n",
    "\n",
    "When stars in a simple stellar population evolve, i.e. at $t>0$, their parameters $L = L(M_0,t)$, $T_\\mathrm{eff} = T_\\mathrm{eff}(M_0,t)$, and $M=M(M_0,t)$ are all changing with its age $t$.\n",
    "\n",
    "If we fix the age $t$ and exclude it from these functions, we will get the so-called isochrone of the stellar population, $L = L(T_\\mathrm{eff}(M(M_0,t),t)) = L(T_\\mathrm{eff})$. We can also get the mass-luminosity relationship $L=L(M)$ for stars that are all in a same and relatively long evolutionary phase, e.g. for main-sequence (MS) stars that are burning hydrogen in their cores.\n",
    "\n",
    "A color-magnitude diagram (CMD) of stars differs from their corresponding Hertzsprung-Russel diagram (HRD) by $T_\\mathrm{eff}$ and $L$ in the HRD replaced by a color and a magnitude in the CMD, respectively."
   ]
  },
  {
   "cell_type": "markdown",
   "metadata": {
    "slideshow": {
     "slide_type": "slide"
    }
   },
   "source": [
    "<center>\n",
    "<img src=\"img/HRD.jpg\", width=1000>\n",
    "</center>"
   ]
  },
  {
   "cell_type": "markdown",
   "metadata": {
    "slideshow": {
     "slide_type": "slide"
    }
   },
   "source": [
    "<center>\n",
    "<img src=\"img/clusterHRD.jpeg\", width=1000>\n",
    "</center>"
   ]
  },
  {
   "cell_type": "markdown",
   "metadata": {
    "slideshow": {
     "slide_type": "slide"
    }
   },
   "source": [
    "<center>\n",
    "<img src=\"img/MLrelation.png\", width=1000>\n",
    "</center>"
   ]
  },
  {
   "cell_type": "markdown",
   "metadata": {
    "slideshow": {
     "slide_type": "slide"
    }
   },
   "source": [
    "<center>\n",
    "<h6> HST image of the young star cluster R136 in the LMC.</h6>\n",
    "<img src=\"img/R136inLMC.jpg\", width=750>\n",
    "</center>"
   ]
  },
  {
   "cell_type": "markdown",
   "metadata": {
    "slideshow": {
     "slide_type": "slide"
    }
   },
   "source": [
    "<center>\n",
    "<h6> Closeup of granulation and a sunspot near the center of the solar photosphere.</h6>\n",
    "<h6>(Vacuum Tower Telescope, NSO, NOAO, apod051106)</h6>\n",
    "<img src=\"img/solar_granul.jpg\", width=750>\n",
    "</center>"
   ]
  },
  {
   "cell_type": "markdown",
   "metadata": {
    "slideshow": {
     "slide_type": "slide"
    }
   },
   "source": [
    "<center>\n",
    "<img src=\"img/HydrostaticEq.jpg\", width=900>\n",
    "<h6>(slideplayer.com)</h6>\n",
    "</center>"
   ]
  },
  {
   "cell_type": "markdown",
   "metadata": {
    "slideshow": {
     "slide_type": "slide"
    }
   },
   "source": [
    "If a star is not in the state of hydrostatic equilibrium its parts will be free-falling towards the center on the so-called dynamical $t_\\mathrm{d}$, or free-fall $t_\\mathrm{ff}$ time scale. This is a time needed for a particle to travel from the surface to the center under the action of the gravitational force without being obstructed by any other forces. Assuming that the star collapses in front of our free-falling particle, we can estimate this time using Kepler's third law $P^2\\propto a^3$ and considering two particles, one moving along the circle coinciding with the original surface of the star and the other moving along a highly eccentrical orbit with the center of the star located in its focus. For the first particle we have $a_1=R$, and $P_1=2\\pi R/v$, where $v$ is the circular velocity, such that $v^2/R = GM/R^2$, therefore $P_1 = 2\\pi\\sqrt{R^3/GM}$, while for the second particle\n",
    "$a_2=R/2$, and then, according to Kepler's third law,\n",
    "$$\n",
    "t_\\mathrm{d} = t_\\mathrm{ff} = \\frac{1}{2}P_2 = \\frac{1}{2}\\left(\\frac{a_2}{a_1}\\right)^{3/2}P_1 =\n",
    "\\frac{1}{2}\\left(\\frac{1}{2}\\right)^{3/2}P_1 =\n",
    "\\frac{\\pi}{2\\sqrt{2}}\\sqrt{\\frac{R^3}{GM}}\\approx 1.11\\sqrt{\\frac{R^3}{GM}}.\n",
    "$$\n",
    "Substituting the solar radius $R_\\odot = 6.957\\times 10^{10}$ cm and mass $M_\\odot = 1.988\\times 10^{33}$ g, we find\n",
    "$$\n",
    "t_\\mathrm{d} = 1.77\\times 10^3 \\left(\\frac{R}{R_\\odot}\\right)^3 \\left(\\frac{M}{M_\\odot}\\right)^{-1/2}\\ \\mathrm{s},\n",
    "$$\n",
    "which means that if suddenly the Sun had lost its state of hydrostatic equilibrium we would have noticed that within 29.5 minutes. The observational fact that most stars are not changing on such short time scales means that they are in the state of hydrostatic equilibrium."
   ]
  },
  {
   "cell_type": "code",
   "execution_count": 2,
   "metadata": {
    "slideshow": {
     "slide_type": "slide"
    }
   },
   "outputs": [
    {
     "name": "stdout",
     "output_type": "stream",
     "text": [
      "In SI units:\n",
      "\n",
      "Msun = 1.988409870698051e+30\n",
      "Rsun = 695700000.0\n",
      "Lsun = 3.828e+26\n",
      "Newton's G = 6.6743e-11\n",
      "Stefan-Boltzmann constant = 5.6703744191844314e-08\n",
      "\n",
      "Newtons gravitational constant, Stefan-Boltzmann sigma, and solar radius and mass in cgs units:\n",
      " \n",
      "G = 6.674299999999999e-08 \n",
      "sigma = 5.6703744191844314e-05 \n",
      "Rsun = 69570000000.0 \n",
      "Msun = 1.988409870698051e+33 \n",
      "Lsun = 3.828e+33\n"
     ]
    }
   ],
   "source": [
    "# astronomical and physical constants in SI and sgs units\n",
    "from astropy import constants as const\n",
    "from astropy import units as u\n",
    "\n",
    "Msun = (const.M_sun).value\n",
    "Rsun = (const.R_sun).value\n",
    "Lsun = (const.L_sun).value\n",
    "GN = (const.G).value  # Newton's constant \n",
    "sigma = (const.sigma_sb).value  # 1e3 tarnsforms SI units to sgs units\n",
    "print ('In SI units:\\n')\n",
    "print ('Msun =',Msun)\n",
    "print ('Rsun =',Rsun)\n",
    "print ('Lsun =',Lsun)\n",
    "print (\"Newton's G =\",GN)\n",
    "print (\"Stefan-Boltzmann constant =\",sigma)\n",
    "\n",
    "# transform to sgs units\n",
    "GN = 1e3*GN\n",
    "sigma = 1e3*sigma\n",
    "Rsun = 1e2*Rsun\n",
    "Msun = 1e3*Msun\n",
    "Lsun = 1e7*Lsun\n",
    "\n",
    "print ('\\nNewton''s gravitational constant, Stefan-Boltzmann sigma, and solar radius and mass in cgs units:\\n',\\\n",
    "       '\\nG =',GN,'\\nsigma =',sigma,'\\nRsun =',Rsun,'\\nMsun =',Msun,'\\nLsun =',Lsun)"
   ]
  },
  {
   "cell_type": "code",
   "execution_count": null,
   "metadata": {},
   "outputs": [],
   "source": []
  }
 ],
 "metadata": {
  "anaconda-cloud": {},
  "celltoolbar": "Slideshow",
  "kernelspec": {
   "display_name": "Python 3 (ipykernel)",
   "language": "python",
   "name": "python3"
  },
  "language_info": {
   "codemirror_mode": {
    "name": "ipython",
    "version": 3
   },
   "file_extension": ".py",
   "mimetype": "text/x-python",
   "name": "python",
   "nbconvert_exporter": "python",
   "pygments_lexer": "ipython3",
   "version": "3.11.8"
  }
 },
 "nbformat": 4,
 "nbformat_minor": 4
}
