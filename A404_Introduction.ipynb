{
 "cells": [
  {
   "cell_type": "code",
   "execution_count": 1,
   "metadata": {
    "collapsed": true,
    "slideshow": {
     "slide_type": "skip"
    }
   },
   "outputs": [],
   "source": [
    "from IPython.display import Image, HTML, display"
   ]
  },
  {
   "cell_type": "markdown",
   "metadata": {
    "slideshow": {
     "slide_type": "slide"
    }
   },
   "source": [
    "<center> \n",
    "<h1> ASTR 404 </h1>\n",
    "<h2> Introduction to Stellar [Astro]physics </h2>\n",
    "($\\alpha\\sigma\\tau\\eta\\rho$ means ``a star'' in Greek)\n",
    "</center>"
   ]
  },
  {
   "cell_type": "markdown",
   "metadata": {
    "slideshow": {
     "slide_type": "slide"
    }
   },
   "source": [
    "<center>\n",
    "<h4> The Evolution of the Universe </h4>\n",
    "<img src=\"img/BigBang.jpg\", width=800>\n",
    "\n",
    "<small>The present age of the Universe is 13.8 Gyr. During inflation, between $10^{-36}$ s and $10^{-32}$ s, the Universe had expanded by a factor of at least $e^{60}\\approx 10^{26}$, probably starting from the Planck size \n",
    "$l_\\mathrm{P} = \\sqrt{\\frac{Gh}{2\\pi c^3}} = 1.62\\times 10^{-35}$ m.</small>\n",
    "</center>"
   ]
  },
  {
   "cell_type": "markdown",
   "metadata": {
    "slideshow": {
     "slide_type": "slide"
    }
   },
   "source": [
    "<center>\n",
    "<h3> What is the Universe Made Of? (WMAP, NASA)</h3>\n",
    "<img src=\"img/WMAPPieChart.png\", width=800>\n",
    "</br>\n",
    "<h4> Only about 10% of atoms (less than 0.5% of the total content of the Universe) are in stars, the rest of them being in the form of intergalactic gas</h4>\n",
    "</center>"
   ]
  },
  {
   "cell_type": "markdown",
   "metadata": {
    "slideshow": {
     "slide_type": "slide"
    }
   },
   "source": [
    "<center>\n",
    "<h4> But stars make the most of the glowing matter of the Milky Way </h4>\n",
    "<img src=\"img/MWCentre.jpg\", width=1200>\n",
    "</center>"
   ]
  },
  {
   "cell_type": "markdown",
   "metadata": {
    "slideshow": {
     "slide_type": "slide"
    }
   },
   "source": [
    "<center>\n",
    "<h4> and of other galaxies </h4>\n",
    "<img src=\"img/DistantGalaxies.jpg\", width=1200>\n",
    "</center>"
   ]
  },
  {
   "cell_type": "markdown",
   "metadata": {
    "slideshow": {
     "slide_type": "slide"
    }
   },
   "source": [
    "<center>\n",
    "<h4> The Big Bang Nucleosynthesis </h4>\n",
    "<img src=\"img/BBN_iso_time.jpg\", width=1000>\n",
    "</center>"
   ]
  },
  {
   "cell_type": "markdown",
   "metadata": {
    "slideshow": {
     "slide_type": "slide"
    }
   },
   "source": [
    "<h3><center>Mass fractions of light isotopes</center></h3>\n",
    "\n",
    "| Isotope | Big Bang  | Solar |\n",
    "|-------------- | ------------- | ------------- |\n",
    "| $^1$H | 0.753              | 0.715          |\n",
    "| $^2$H | 1.94e-5  | 1.43e-5 |\n",
    "| $^3$He | 7.53e-6  | 4.49e-5 |\n",
    "| $^4$He | 0.247  | 0.270 |\n",
    "| $^6$Li | 9.70e-15  | 6.44e-10 |\n",
    "| $^7$Li | 3.50e-10  | 9.15e-9 |\n"
   ]
  },
  {
   "cell_type": "markdown",
   "metadata": {
    "slideshow": {
     "slide_type": "slide"
    }
   },
   "source": [
    "<center>\n",
    "<h4>All the chemical elements heavier than Li were synthesized in stars (in the so-called \"stellar nucleosynthesis\").</h4>\n",
    "<center>\n",
    "<img src=\"img/PeriodicTable.png\", width=1000>\n",
    "</center>"
   ]
  },
  {
   "cell_type": "markdown",
   "metadata": {
    "slideshow": {
     "slide_type": "slide"
    }
   },
   "source": [
    "<center>\n",
    "<img src=\"img/human-body-infographics.jpg\", width=1000>\n",
    "</center>"
   ]
  },
  {
   "cell_type": "markdown",
   "metadata": {
    "slideshow": {
     "slide_type": "slide"
    }
   },
   "source": [
    "<center>\n",
    "<img src=\"img/EarthComposition.jpg\", width=800>\n",
    "</center>"
   ]
  },
  {
   "cell_type": "markdown",
   "metadata": {
    "slideshow": {
     "slide_type": "slide"
    }
   },
   "source": [
    "<center>\n",
    "<h4>Solar system elemental abundances</h4>\n",
    "<img src=\"img/SolarComposition.jpg\", width=1100>\n",
    "</center>"
   ]
  },
  {
   "cell_type": "markdown",
   "metadata": {
    "slideshow": {
     "slide_type": "slide"
    }
   },
   "source": [
    "<center>\n",
    "<h4> The Sun has so far been the most important source of energy</h4>\n",
    "<img src=\"img/SolarEnergy.jpg\", width=1000>\n",
    "</center>"
   ]
  },
  {
   "cell_type": "markdown",
   "metadata": {
    "slideshow": {
     "slide_type": "slide"
    }
   },
   "source": [
    "<center>\n",
    "<h3> Physics of stellar interiors benefits from</h3>\n",
    "<ul style=\"margin-left: 8px; margin-right: 8px;\">\n",
    "<li>Classical mechanics</li>\n",
    "<li>Hydrodynamics</li>\n",
    "<li> Radiative transfer theory</li>\n",
    "<li>Thermodynamics and statistical mechanics</li>\n",
    "<li>Atomic and molecular physics</li>\n",
    "<li>Nuclear physics</li>\n",
    "<li>Quantum mechanics</li>\n",
    "<li> General relativity</li>\n",
    "<li>Electromagnetism</li>\n",
    "<li>Solid-state physics</li>\n",
    "</ul>\n",
    "<h4> and deals with matter in conditions that are not attainable\n",
    "in laboratory experiments on the Earth</h4>\n",
    "</center>"
   ]
  },
  {
   "cell_type": "markdown",
   "metadata": {
    "slideshow": {
     "slide_type": "slide"
    }
   },
   "source": [
    "<center>\n",
    "<h3>Definition of a star</h3>\n",
    "</center>\n",
    "</br>\n",
    "<h4> A star is a gravitationally bound spatially isolated mass of baryonic matter\n",
    "that is opaque for radiation, in which thermonuclear reactions transforming hydrogen into helium\n",
    "had either occurred in the past, occurring at present, or will occur in the future on a relatively large scale."
   ]
  },
  {
   "cell_type": "markdown",
   "metadata": {
    "slideshow": {
     "slide_type": "slide"
    }
   },
   "source": [
    "<center>\n",
    "<img src=\"img/flow_chart.jpeg\", width=1200>\n",
    "</center>"
   ]
  },
  {
   "cell_type": "markdown",
   "metadata": {
    "slideshow": {
     "slide_type": "slide"
    }
   },
   "source": [
    "<center>\n",
    "<img src=\"img/RadPencil.jpeg\", width=1200>\n",
    "</center>"
   ]
  },
  {
   "cell_type": "markdown",
   "metadata": {
    "slideshow": {
     "slide_type": "slide"
    }
   },
   "source": [
    "The intensity of radiation $I_\\nu(t,\\mathbf{r},\\mathbf{n})$ is defined as follows: \n",
    "$$\n",
    "dE_\\nu(\\mathbf{n}) = I_\\nu d\\nu dAd\\Omega dt\n",
    "$$\n",
    "is the energy of radiation flowing through the surface area $dA$ in the direction of the unit vector $\\mathbf{n}$ perpendicular to $dA$ within the solid angle $d\\Omega$ about the vector $\\mathbf{n}$ during the time interval $dt$ and in the range of frequency $[\\nu,\\nu+d\\nu ]$.\n",
    "\n",
    "The flux of radiation through the fixed surface area $dA$ in the fixed direction $\\mathbf{n}$ is defined as the above energy integrated over the entire solid angle $4\\pi$. In this integration we have to vary the direction $\\mathbf{n}'$ of the intensity, i.e. now $I_\\nu = I_\\nu(t,\\mathbf{r},\\mathbf{n}')$, considering all possible angles $(\\theta,\\varphi)$ between the two unit vectors $\\mathbf{n}$ and $\\mathbf{n}'$ and taking into account that the projection of the fixed surface area $dA$ on a plane perpendicular to $\\mathbf{n}'$ is $dA\\cos\\theta$. As a result, the flux of radiation is equal to\n",
    "$$\n",
    "f_\\nu(t,\\mathbf{r},\\mathbf{n}) = \\frac{dE_\\nu(\\mathrm{from\\ all\\ }\\mathbf{n}')}{d\\nu dA dt} =\n",
    "\\int_0^{2\\pi}\\int_0^\\pi I_\\nu(t,\\mathbf{r},\\mathbf{n}')\\cos\\theta\\sin\\theta d\\theta d\\varphi.\n",
    "$$\n",
    "For isotropic radiation, such that $I_\\nu$ does not depend on $\\theta$ and $\\varphi$, the monochromatic, i.e. for a given frequency $\\nu$, flux of radiation into the upper hemisphere is equal to $f_\\nu = \\pi I_\\nu$, while the total flux into the upper and lower hemisphere is zero."
   ]
  },
  {
   "cell_type": "markdown",
   "metadata": {
    "slideshow": {
     "slide_type": "slide"
    }
   },
   "source": [
    "For the black-body (BB) radiation $I_\\nu = B_\\nu$, where\n",
    "$$\n",
    "B_\\nu = B_\\nu (T) = \\frac{2h\\nu^3}{c^2}\\frac{1}{e^{h\\nu /kT}-1}\n",
    "$$\n",
    "is the Planck function, and the monochromatic flux is $f_\\nu = \\pi B_\\nu$.\n",
    "\n",
    "The integrated BB radiation flux is\n",
    "$$\n",
    "f = \\int_0^{+\\infty}f_\\nu d\\nu = \\int_0^{+\\infty}\\pi B_\\nu d\\nu = \\sigma T^4,\n",
    "$$\n",
    "where $\\sigma = 5.67\\times 10^{-8}\\ \\mathrm{W\\,m}^{-2}\\mathrm{K}^{-4}$ is the Stephan-Boltzmann constant.\n",
    "The expression\n",
    "$$\n",
    "B_\\lambda = \\frac{2\\pi hc^2}{\\lambda^5}\\frac{1}{e^{hc/kT\\lambda}-1}\n",
    "$$\n",
    "for the Planck function can be obtained from the relationships $B_\\nu d\\nu = B_\\lambda d\\lambda$ and\n",
    "$\\nu = c/\\lambda$, where $\\lambda$ is the radiation wave length. $B_\\lambda$ has a maximum at \n",
    "$\\lambda = \\lambda_\\mathrm{max}$, where, according to Wien's displacement law,\n",
    "$$\n",
    "\\lambda_\\mathrm{max} = \\frac{2.898\\times 10^6\\ \\mathrm{nm\\,K}}{T}.\n",
    "$$"
   ]
  },
  {
   "cell_type": "markdown",
   "metadata": {
    "slideshow": {
     "slide_type": "slide"
    }
   },
   "source": [
    "**Absorption of radiation**\n",
    "\n",
    "When radiation passes a distance $ds$ through an absorbing medium its initial intensity $I_\\nu$ is reduced by $dI_\\nu = -\\alpha_\\nu I_\\nu ds < 0$, where $\\alpha_\\nu$ is called the absorption coefficient. If the medium has a density $\\rho$ then $\\varkappa_\\nu = \\alpha_\\nu/\\rho$ is called the opacity. From the definition of $\\alpha_\\nu$, we find how the intensity is reduced with the distance travelled by radiation\n",
    "$$\n",
    "I_\\nu(s) = I_\\nu(0) e^{-\\tau_\\nu (s)},\n",
    "$$\n",
    "where $\\tau_\\nu (s) = \\int_0^s\\alpha_\\nu ds$ is called the optical depth. When $\\tau_\\nu > 1$ then the medium is opaque for the radiation with the given $\\nu$. Photons with a frequency $\\nu$ can travel free, without interacting with the medium, only such a distance $s$ that $\\tau_\\nu (s) = 1$."
   ]
  },
  {
   "cell_type": "markdown",
   "metadata": {
    "slideshow": {
     "slide_type": "slide"
    }
   },
   "source": [
    "<center>\n",
    "<h4>The Weber-Fechner psychophysical law of human perception\n",
    "relates the actual change in a physical stimulus with the perceived change.</h4>\n",
    "<img src=\"img/WeberFechner.png\", width=600>\n",
    "</center>"
   ]
  },
  {
   "cell_type": "markdown",
   "metadata": {
    "slideshow": {
     "slide_type": "slide"
    }
   },
   "source": [
    "<center>\n",
    "<img src=\"img/PrimaryColors.png\", width=800>\n",
    "</center>"
   ]
  },
  {
   "cell_type": "markdown",
   "metadata": {
    "slideshow": {
     "slide_type": "slide"
    }
   },
   "source": [
    "**Magnitudes and colors**\n",
    "\n",
    "The luminosity of a star is $L = 4\\pi R^2 \\sigma T_\\mathrm{eff}^4$ is the integrated flux through the entire surface of the star directed outside. However, usually only fluxes integrated over relatively narrow ranges of frequency are measured, e.g. by human eyes. For their comparison, say in photometric band (for a range of frequency $[\\lambda,\\lambda+d\\lambda]$) A, astronomers use stellar magnitudes defined as\n",
    "$$\n",
    "m_A = -2.5\\log_{10}\\frac{\\int_{\\lambda_1}^{\\lambda_2}f_\\lambda S_\\lambda d\\lambda}{\\int_{\\lambda_1}^{\\lambda_2}f_\\lambda^0 S_\\lambda d\\lambda} + m_A^0,\n",
    "$$\n",
    "where $S_\\lambda$ is the response, or transmission function for the photometric band A, the upper index 0 indicated data for a reference star, and the monochromatic fluxes $f_\\lambda$ and $f_\\lambda^0$ are assumed to be measured at the top of Earth's atmosphere.\n",
    "\n",
    "$f_A = \\int_{\\lambda_1}^{\\lambda_2}f_\\lambda S_\\lambda d\\lambda$ is the intefrated flux measured in the photometric band A.\n",
    "\n",
    "From  ancient Greek observations, \n",
    "$$\n",
    "m_\\mathrm{visual}(1) - m_\\mathrm{visual}(6) = -2.5\\log_{10}\\frac{f_\\mathrm{visual}(1)}{f_\\mathrm{visual}(6)} = -5,\n",
    "$$\n",
    "where $f_\\mathrm{visual}(1)/f_\\mathrm{visual}(6) = 100.$ Therefore,\n",
    "$$\n",
    "\\frac{f_A(m_A)}{f_A(m_{A+1})} = 100^\\frac{1}{5} = 10^\\frac{2}{5} = 10^{0.4} = 2.512.\n",
    "$$\n",
    "\n",
    "Colors are measured using the differences of magnitidues in different photometric bands, e.g.\n",
    "$m_a - m_B = (A-B)$ is the $A-B$ color or color index."
   ]
  },
  {
   "cell_type": "markdown",
   "metadata": {
    "slideshow": {
     "slide_type": "slide"
    }
   },
   "source": [
    "<center>\n",
    "<img src=\"img/K4VandUBVRI.png\", width=1000>\n",
    "</center>"
   ]
  },
  {
   "cell_type": "markdown",
   "metadata": {
    "slideshow": {
     "slide_type": "slide"
    }
   },
   "source": [
    "<center>\n",
    "<img src=\"img/K4Vspectrum.png\", width=800>\n",
    "</center>\n",
    "<center>\n",
    "<img src=\"img/K4Vtheory.png\", width=800>\n",
    "</center>"
   ]
  },
  {
   "cell_type": "markdown",
   "metadata": {
    "slideshow": {
     "slide_type": "slide"
    }
   },
   "source": [
    "<center>\n",
    "<img src=\"img/K4Vspectrum.png\", width=800>\n",
    "</center>\n",
    "<center>\n",
    "<img src=\"img/A13Vspectrum.png\", width=800>\n",
    "</center>"
   ]
  },
  {
   "cell_type": "markdown",
   "metadata": {
    "slideshow": {
     "slide_type": "slide"
    }
   },
   "source": [
    "<center>\n",
    "<h3> MESA ZAMS (Zero-Age Main Sequence) for [Fe/H]=0 (Asplund et al. 2009) </h3>\n",
    "<img src=\"img/my_zams.png\", width=800>\n",
    "</br>\n",
    "<h4> The diagonal dashed lines are the lines of constant radius (lgR = -2, 0, 2). </h4>\n",
    "</center>"
   ]
  },
  {
   "cell_type": "markdown",
   "metadata": {
    "slideshow": {
     "slide_type": "slide"
    }
   },
   "source": [
    "<center>\n",
    "<small>(O class) Hottest Stars: T>30,000 K; Strong He+ lines; no H lines (or only very weak at O9).\n",
    "From http://www.astronomy.ohio-state.edu/~pogge/Ast162/Unit1/sptypes.html</small>\n",
    "<img src=\"img/O5vSpectrum.gif\", width=600>\n",
    "<small>(B class) T = 11,000 - 30,000 K; Strong neutral He lines; very weak H lines, getting stronger from B0 through B9.</small>\n",
    "<img src=\"img/B0vSpectrum.gif\", width=600>\n",
    "<small>(A class) T = 7500 - 11,000 K; Strongest H lines, Weak Ca+ lines emerge towards A9 types.</small> \n",
    "<img src=\"img/A5vSpectrum.gif\", width=600>\n",
    "<small>(F class) T = 5900 - 7500 K; H grows weaker through F9, Ca+ grows stronger, weak metals begin to emerge.</small>\n",
    "<img src=\"img/F5vSpectrum.gif\", width=600>\n",
    "<small>(G class, the Sun is a G2V star) T = 5200 - 5900 K; Strong Ca+, Fe+ and other metals dominate, H grows weaker through the class.</small>\n",
    "<img src=\"img/G0vSpectrum.gif\", width=600>\n",
    "<small>(K class) T = 3900 - 5200 K; Strong metal lines, weak CH & CN molecular bands begin to appear, growing through the class. H lines nearly gone.</small>\n",
    "<img src=\"img/K0vSpectrum.gif\", width=600>\n",
    "<small>(M class) Cool Stars: T = 2500 - 3900 K; strong molecular absorption bands particularly of TiO and VO emerge and strengthen, as do lines of neutral metals. Virtually no H lines anymore.</small>\n",
    "<img src=\"img/M0vSpectrum.gif\", width=600>\n",
    "</center>"
   ]
  },
  {
   "cell_type": "code",
   "execution_count": 2,
   "metadata": {
    "slideshow": {
     "slide_type": "slide"
    }
   },
   "outputs": [
    {
     "name": "stdout",
     "output_type": "stream",
     "text": [
      " pi = 3.141592653589793 \n",
      " c = 299792458.0 \n",
      " h = 6.62607004e-34 \n",
      " k = 1.38064852e-23\n"
     ]
    }
   ],
   "source": [
    "# physics constants\n",
    "import scipy.constants as sc\n",
    "#sc?\n",
    "print (\" pi =\",sc.pi,\"\\n c =\",sc.c,\"\\n h =\",sc.h,\"\\n k =\",sc.k)"
   ]
  },
  {
   "cell_type": "markdown",
   "metadata": {
    "slideshow": {
     "slide_type": "slide"
    }
   },
   "source": [
    "<center>\n",
    "<h6> Algol image from CHARA (Center for High Angular Resolution Astronomy)</h6>\n",
    "<img src=\"img/algol_animated.gif\", width=400>\n",
    "<img src=\"img/AlgolLightCurve.gif\",width=600>\n",
    "</center>\n",
    "<small>Reference: Baron et al. 2012, ApJ, 752, 20.</small>"
   ]
  },
  {
   "cell_type": "markdown",
   "metadata": {
    "slideshow": {
     "slide_type": "slide"
    }
   },
   "source": [
    "<center>\n",
    "<h6> Stellar diameters measured in CHARA (Center for High Angular Resolution Astronomy)</h6>\n",
    "<img src=\"img/HR_diagram_CHARA.png\", width=1000>\n",
    "</center>\n",
    "<small>References:\n",
    "Boyajian et al. 2012, ApJ, 746, 101;\n",
    "Boyajian et al. 2012, ApJ, 757, 112;\n",
    "Boyajian et al. 2013, ApJ, 771, 40.</small>"
   ]
  },
  {
   "cell_type": "markdown",
   "metadata": {
    "collapsed": true,
    "slideshow": {
     "slide_type": "slide"
    }
   },
   "source": [
    "<center>\n",
    "<h6> Images of rapid rotators from CHARA (Center for High Angular Resolution Astronomy)</h6>\n",
    "<img src=\"img/rapid_rotator_crop.png\", width=1000>\n",
    "</center>\n",
    "<small>References:\n",
    "Regulus from Che et al. 2011, ApJ, 732, 68;\n",
    "Rasalhague from Zhao et al. 2009, ApJ, 701, 209;\n",
    "Altair from Monnier et al. 2007, Science, 317, 324;\n",
    "Alderamin from Zhao et al. 2009, ApJ, 701, 209;\n",
    "Beta Cas from Che et al. 2011, ApJ, 732, 68.</small>"
   ]
  },
  {
   "cell_type": "markdown",
   "metadata": {
    "slideshow": {
     "slide_type": "slide"
    }
   },
   "source": [
    "<center>\n",
    "<h6> HST image of the young star cluster R136 in the LMC.</h6>\n",
    "<img src=\"img/R136inLMC.jpg\", width=750>\n",
    "</center>"
   ]
  },
  {
   "cell_type": "markdown",
   "metadata": {
    "slideshow": {
     "slide_type": "slide"
    }
   },
   "source": [
    "<center>\n",
    "<img src=\"img/clusterHRD.jpeg\", width=1000>\n",
    "</center>"
   ]
  },
  {
   "cell_type": "markdown",
   "metadata": {
    "slideshow": {
     "slide_type": "slide"
    }
   },
   "source": [
    "<center>\n",
    "<img src=\"img/HRD.jpg\", width=1000>\n",
    "</center>"
   ]
  },
  {
   "cell_type": "markdown",
   "metadata": {
    "slideshow": {
     "slide_type": "slide"
    }
   },
   "source": [
    "<center>\n",
    "<img src=\"img/MLrelation.png\", width=1000>\n",
    "</center>"
   ]
  },
  {
   "cell_type": "markdown",
   "metadata": {
    "slideshow": {
     "slide_type": "slide"
    }
   },
   "source": [
    "<center>\n",
    "<h6> Closeup of granulation and a sunspot near the center of the solar photosphere.</h6>\n",
    "<h6>(Vacuum Tower Telescope, NSO, NOAO, apod051106)</h6>\n",
    "<img src=\"img/solar_granul.jpg\", width=750>\n",
    "</center>"
   ]
  }
 ],
 "metadata": {
  "anaconda-cloud": {},
  "celltoolbar": "Slideshow",
  "kernelspec": {
   "display_name": "Python 3",
   "language": "python",
   "name": "python3"
  },
  "language_info": {
   "codemirror_mode": {
    "name": "ipython",
    "version": 3
   },
   "file_extension": ".py",
   "mimetype": "text/x-python",
   "name": "python",
   "nbconvert_exporter": "python",
   "pygments_lexer": "ipython3",
   "version": "3.7.2"
  }
 },
 "nbformat": 4,
 "nbformat_minor": 1
}
