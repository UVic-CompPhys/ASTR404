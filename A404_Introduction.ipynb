{
 "cells": [
  {
   "cell_type": "code",
   "execution_count": 1,
   "metadata": {
    "collapsed": true,
    "slideshow": {
     "slide_type": "skip"
    }
   },
   "outputs": [],
   "source": [
    "from IPython.display import Image, HTML, display"
   ]
  },
  {
   "cell_type": "markdown",
   "metadata": {
    "slideshow": {
     "slide_type": "slide"
    }
   },
   "source": [
    "<center> \n",
    "<h1> ASTR 404 </h1>\n",
    "<h2> Introduction to Stellar [Astro]physics </h2>\n",
    "($\\alpha\\sigma\\tau\\eta\\rho$ means ``a star'' in Greek)\n",
    "</center>"
   ]
  },
  {
   "cell_type": "markdown",
   "metadata": {
    "slideshow": {
     "slide_type": "slide"
    }
   },
   "source": [
    "<center>\n",
    "<h4> The Evolution of the Universe </h4>\n",
    "<img src=\"img/BigBang.jpg\", width=800>\n",
    "</center>\n",
    "\n",
    "The present age of the Universe is 13.8 Gyr. During inflation, between $10^{-36}$ s and $10^{-32}$ s, the Universe had expanded by a factor of at least $e^{60}\\approx 10^{26}$."
   ]
  },
  {
   "cell_type": "markdown",
   "metadata": {
    "slideshow": {
     "slide_type": "slide"
    }
   },
   "source": [
    "<center>\n",
    "<h3> What is the Universe Made Of? (WMAP, NASA)</h3>\n",
    "<img src=\"img/WMAPPieChart.png\", width=800>\n",
    "</br>\n",
    "<h4> Only about 10% of atoms (less than 0.5% of the total content of the Universe) are in stars, the rest of them being in the form of intergalactic gas</h4>\n",
    "</center>"
   ]
  },
  {
   "cell_type": "markdown",
   "metadata": {
    "slideshow": {
     "slide_type": "slide"
    }
   },
   "source": [
    "<center>\n",
    "<h4> But stars make the most of the glowing matter of the Milky Way </h4>\n",
    "<img src=\"img/MWCentre.jpg\", width=1200>\n",
    "</center>"
   ]
  },
  {
   "cell_type": "markdown",
   "metadata": {
    "slideshow": {
     "slide_type": "slide"
    }
   },
   "source": [
    "<center>\n",
    "<h4> and of other galaxies </h4>\n",
    "<img src=\"img/DistantGalaxies.jpg\", width=1200>\n",
    "</center>"
   ]
  },
  {
   "cell_type": "markdown",
   "metadata": {
    "slideshow": {
     "slide_type": "slide"
    }
   },
   "source": [
    "<center>\n",
    "<h4> The Big Bang Nucleosynthesis </h4>\n",
    "<img src=\"img/BBN_iso_time.jpg\", width=1000>\n",
    "</center>"
   ]
  },
  {
   "cell_type": "markdown",
   "metadata": {
    "slideshow": {
     "slide_type": "slide"
    }
   },
   "source": [
    "<center>\n",
    "<h4>All the chemical elements heavier than Be were synthesized in stars (in the so-called \"stellar nucleosynthesis\").</h4>\n",
    "<center>\n",
    "<img src=\"img/PeriodicTable.png\", width=1000>\n",
    "</center>"
   ]
  },
  {
   "cell_type": "markdown",
   "metadata": {
    "slideshow": {
     "slide_type": "slide"
    }
   },
   "source": [
    "<center>\n",
    "<img src=\"img/human-body-infographics.jpg\", width=1000>\n",
    "</center>"
   ]
  },
  {
   "cell_type": "markdown",
   "metadata": {
    "slideshow": {
     "slide_type": "slide"
    }
   },
   "source": [
    "<center>\n",
    "<img src=\"img/EarthComposition.jpg\", width=800>\n",
    "</center>"
   ]
  },
  {
   "cell_type": "markdown",
   "metadata": {
    "slideshow": {
     "slide_type": "slide"
    }
   },
   "source": [
    "<center>\n",
    "<h4>Solar system elemental abundances</h4>\n",
    "<img src=\"img/SolarComposition.jpg\", width=1100>\n",
    "</center>"
   ]
  },
  {
   "cell_type": "markdown",
   "metadata": {
    "slideshow": {
     "slide_type": "slide"
    }
   },
   "source": [
    "<center>\n",
    "<h4> The Sun has so far been the most important source of energy</h4>\n",
    "<img src=\"img/SolarEnergy.jpg\", width=1000>\n",
    "</center>"
   ]
  },
  {
   "cell_type": "markdown",
   "metadata": {
    "slideshow": {
     "slide_type": "slide"
    }
   },
   "source": [
    "<center>\n",
    "<h3> Physics of stellar interiors benefits from</h3>\n",
    "<ul style=\"margin-left: 8px; margin-right: 8px;\">\n",
    "<li>Classical mechanics</li>\n",
    "<li>Hydrodynamics</li>\n",
    "<li> Radiative transfer theory</li>\n",
    "<li>Thermodynamics and statistical mechanics</li>\n",
    "<li>Atomic and molecular physics</li>\n",
    "<li>Nuclear physics</li>\n",
    "<li>Quantum mechanics</li>\n",
    "<li> General relativity</li>\n",
    "<li>Electromagnetism</li>\n",
    "<li>Solid-state physics</li>\n",
    "</ul>\n",
    "<h4> and deals with matter in conditions that are not attainable\n",
    "in laboratory experiments on the Earth</h4>\n",
    "</center>"
   ]
  },
  {
   "cell_type": "markdown",
   "metadata": {
    "slideshow": {
     "slide_type": "slide"
    }
   },
   "source": [
    "<center>\n",
    "<h3>Definition of a star</h3>\n",
    "</center>\n",
    "</br>\n",
    "<h4> A star is a gravitationally bound spatially isolated mass of barionic matter\n",
    "that is opaque for radiation, in which thermonuclear reactions transforming hydrogen into helium\n",
    "had either occurred in the past, occurring at present, or will occur in the future on a relatively large scale."
   ]
  },
  {
   "cell_type": "markdown",
   "metadata": {
    "slideshow": {
     "slide_type": "slide"
    }
   },
   "source": [
    "<center>\n",
    "<img src=\"img/flow_chart.jpeg\", width=1200>\n",
    "</center>"
   ]
  },
  {
   "cell_type": "markdown",
   "metadata": {
    "slideshow": {
     "slide_type": "slide"
    }
   },
   "source": [
    "<center>\n",
    "<img src=\"img/RadPencil.jpeg\", width=1200>\n",
    "</center>"
   ]
  },
  {
   "cell_type": "markdown",
   "metadata": {
    "slideshow": {
     "slide_type": "slide"
    }
   },
   "source": [
    "<center>\n",
    "<h4>The Weber-Fechner psychophysical law of human perception\n",
    "relates the actual change in a physical stimulus with the perceived change.</h4>\n",
    "<img src=\"img/WeberFechner.png\", width=600>\n",
    "</center>"
   ]
  },
  {
   "cell_type": "code",
   "execution_count": 2,
   "metadata": {
    "slideshow": {
     "slide_type": "slide"
    }
   },
   "outputs": [
    {
     "name": "stdout",
     "output_type": "stream",
     "text": [
      "  Name   = Solar mass\n",
      "  Value  = 1.9884754153381438e+30\n",
      "  Uncertainty  = 9.236140093538353e+25\n",
      "  Unit  = kg\n",
      "  Reference = IAU 2015 Resolution B 3 + CODATA 2014\n",
      "\n",
      "  Name   = Nominal solar radius\n",
      "  Value  = 695700000.0\n",
      "  Uncertainty  = 0.0\n",
      "  Unit  = m\n",
      "  Reference = IAU 2015 Resolution B 3\n",
      "\n",
      "  Name   = Nominal solar luminosity\n",
      "  Value  = 3.828e+26\n",
      "  Uncertainty  = 0.0\n",
      "  Unit  = W\n",
      "  Reference = IAU 2015 Resolution B 3\n"
     ]
    }
   ],
   "source": [
    "from astropy import constants as const\n",
    "#const?\n",
    "print (const.M_sun)\n",
    "print ()\n",
    "print (const.R_sun)\n",
    "print ()\n",
    "print (const.L_sun)"
   ]
  },
  {
   "cell_type": "code",
   "execution_count": 3,
   "metadata": {
    "slideshow": {
     "slide_type": "slide"
    }
   },
   "outputs": [
    {
     "data": {
      "text/html": [
       "<iframe src=http://www.astro.ucla.edu/undergrad/astro3/orbits.html width=1200 height=1200></iframe>"
      ],
      "text/plain": [
       "<IPython.core.display.HTML object>"
      ]
     },
     "execution_count": 3,
     "metadata": {},
     "output_type": "execute_result"
    }
   ],
   "source": [
    "HTML('<iframe src=http://www.astro.ucla.edu/undergrad/astro3/orbits.html width=1200 height=1200></iframe>')"
   ]
  },
  {
   "cell_type": "code",
   "execution_count": null,
   "metadata": {
    "collapsed": true
   },
   "outputs": [],
   "source": []
  }
 ],
 "metadata": {
  "anaconda-cloud": {},
  "celltoolbar": "Slideshow",
  "kernelspec": {
   "display_name": "Python [Root]",
   "language": "python",
   "name": "Python [Root]"
  },
  "language_info": {
   "codemirror_mode": {
    "name": "ipython",
    "version": 3
   },
   "file_extension": ".py",
   "mimetype": "text/x-python",
   "name": "python",
   "nbconvert_exporter": "python",
   "pygments_lexer": "ipython3",
   "version": "3.5.2"
  }
 },
 "nbformat": 4,
 "nbformat_minor": 1
}
