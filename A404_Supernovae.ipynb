{
 "cells": [
  {
   "cell_type": "code",
   "execution_count": 1,
   "metadata": {
    "collapsed": true,
    "slideshow": {
     "slide_type": "skip"
    }
   },
   "outputs": [],
   "source": [
    "from IPython.display import Image, HTML, display"
   ]
  },
  {
   "cell_type": "markdown",
   "metadata": {
    "slideshow": {
     "slide_type": "slide"
    }
   },
   "source": [
    "<center> \n",
    "<h1> ASTR 404 </h1>\n",
    "<h2> Supernovae </h2>\n",
    "</center>"
   ]
  },
  {
   "cell_type": "markdown",
   "metadata": {
    "slideshow": {
     "slide_type": "slide"
    }
   },
   "source": [
    "<center>\n",
    "<h4> The Two Types of Supernovae (SNe)</h4>\n",
    "<img src=\"img/SNeIaSNII.png\", width=800>\n",
    "</center>"
   ]
  },
  {
   "cell_type": "markdown",
   "metadata": {
    "slideshow": {
     "slide_type": "slide"
    }
   },
   "source": [
    "<center>\n",
    "<h4> The Phillips relationship for SNeIa light curves</h4>\n",
    "<img src=\"img/SN_lightcurves.gif\", width=800>\n",
    "<h4>$M_B^\\mathrm{max} = -21.726 + 2.698\\Delta m_{B,15}$</h4>\n",
    "</center>"
   ]
  },
  {
   "cell_type": "markdown",
   "metadata": {
    "slideshow": {
     "slide_type": "slide"
    }
   },
   "source": [
    "<center>\n",
    "<h4> The $^{56}$Co (de-excitation) $\\gamma$-lines in the spectra of SN 2014J by Churazov et al. (2014, Nature, 512, 406)</h4>\n",
    "<img src=\"img/Co56Gammas.png\", width=800>\n",
    "<h4>$M_B^\\mathrm{max} = -21.726 + 2.698\\Delta m_{B,15}$</h4>\n",
    "</center>"
   ]
  },
  {
   "cell_type": "markdown",
   "metadata": {
    "slideshow": {
     "slide_type": "slide"
    }
   },
   "source": [
    "<center>\n",
    "<h4> The Double-Degenerate (DD) and Single-Degenerate (SD) Channels of SNeIa Progenitors</h4>\n",
    "<img src=\"img/two_channels_sneIa.png\", width=800>\n",
    "</center>"
   ]
  },
  {
   "cell_type": "markdown",
   "metadata": {
    "slideshow": {
     "slide_type": "slide"
    }
   },
   "source": [
    "<center>\n",
    "<h4> The Single-Degenerate (SD) Channel of SNeIa Progenitors</h4>\n",
    "<img src=\"img/SD.png\", width=800>\n",
    "</center>"
   ]
  },
  {
   "cell_type": "markdown",
   "metadata": {
    "slideshow": {
     "slide_type": "slide"
    }
   },
   "source": [
    "<center>\n",
    "<h4> The Double-Detonation sub-Chandrasekhar SNIa</h4>\n",
    "<img src=\"img/SDHe.png\", width=800>\n",
    "</center>"
   ]
  },
  {
   "cell_type": "markdown",
   "metadata": {
    "slideshow": {
     "slide_type": "slide"
    }
   },
   "source": [
    "<center>\n",
    "<h4> The Double-Degenerate (SD) Channel of SNeIa Progenitors</h4>\n",
    "<img src=\"img/DD.png\", width=800>\n",
    "</center>"
   ]
  },
  {
   "cell_type": "markdown",
   "metadata": {
    "slideshow": {
     "slide_type": "slide"
    }
   },
   "source": [
    "<center>\n",
    "<h4> The SNIa Remnant Masses (Scalzo et al., 2014, MNRAS, 445, 2535)</h4>\n",
    "<img src=\"img/SNIaRemnantMasses.png\", width=800>\n",
    "</center>"
   ]
  },
  {
   "cell_type": "markdown",
   "metadata": {
    "collapsed": true,
    "slideshow": {
     "slide_type": "slide"
    }
   },
   "source": [
    "<center>\n",
    "<h4>The Pair-Instability SNe</h4>\n",
    "<img src=\"img/large_stars_die.jpg\", width=800>\n",
    "</center>"
   ]
  }
 ],
 "metadata": {
  "anaconda-cloud": {},
  "celltoolbar": "Slideshow",
  "kernelspec": {
   "display_name": "Python [Root]",
   "language": "python",
   "name": "Python [Root]"
  },
  "language_info": {
   "codemirror_mode": {
    "name": "ipython",
    "version": 3
   },
   "file_extension": ".py",
   "mimetype": "text/x-python",
   "name": "python",
   "nbconvert_exporter": "python",
   "pygments_lexer": "ipython3",
   "version": "3.5.2"
  }
 },
 "nbformat": 4,
 "nbformat_minor": 1
}
