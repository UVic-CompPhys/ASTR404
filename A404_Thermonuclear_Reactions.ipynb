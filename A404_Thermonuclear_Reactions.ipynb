{
 "cells": [
  {
   "cell_type": "code",
   "execution_count": 1,
   "metadata": {
    "collapsed": true,
    "jupyter": {
     "outputs_hidden": true
    },
    "slideshow": {
     "slide_type": "skip"
    }
   },
   "outputs": [],
   "source": [
    "from IPython.display import Image, HTML, display"
   ]
  },
  {
   "cell_type": "markdown",
   "metadata": {
    "slideshow": {
     "slide_type": "slide"
    }
   },
   "source": [
    "<center> \n",
    "<h1> ASTR 404 </h1>\n",
    "<h2> Thermonuclear Reactions </h2>\n",
    "</center>"
   ]
  },
  {
   "cell_type": "markdown",
   "metadata": {
    "slideshow": {
     "slide_type": "slide"
    }
   },
   "source": [
    "<center>\n",
    "<h4> A shell atomic model</h4>\n",
    "<img src=\"img/shell_atomic_model.jpg\", width=800>\n",
    "</center>"
   ]
  },
  {
   "cell_type": "markdown",
   "metadata": {
    "slideshow": {
     "slide_type": "slide"
    }
   },
   "source": [
    "<center>\n",
    "<h4> A fragment of the chart of nuclides (<a href=\"https://people.physics.anu.edu.au/~ecs103/chart/\" target=\"_blank\" rel=\"noopener noreferrer\">link to a full chart</a>)</h4>\n",
    "<img src=\"img/AChartOfNuclides.jpg\", width=800>\n",
    "</center>"
   ]
  },
  {
   "cell_type": "markdown",
   "metadata": {
    "slideshow": {
     "slide_type": "slide"
    }
   },
   "source": [
    "<center>\n",
    "<h4> The nuclear binding energy (per nucleon) </h4>\n",
    "<img src=\"img/BindingEnergy.gif\", width=600>\n",
    "</center>\n",
    "\n",
    "Weizsaecker approximation (1935)\n",
    "$$\n",
    "|E_\\mathrm{b}(Z,A)|\\approx a_1A-a_2A^{2/3}-a_3(Z^2A^{-1/3})-0.25a_4\\frac{(A-2Z)^2}{A}-a_5\\frac{\\delta}{A^{3/4}},\n",
    "$$\n",
    "$a_1=14.03$, $a_2=13.03$, $a_3=0.5835$, $a_4=77.25$, $a_5=33.57$, all in MeV. $\\delta=1, 0, \\mathrm{or} -1$ for even A and Z, odd A, or odd Z and A, respectively."
   ]
  },
  {
   "cell_type": "markdown",
   "metadata": {
    "slideshow": {
     "slide_type": "slide"
    }
   },
   "source": [
    "<center>\n",
    "<h4> Proton-proton (pp) chains </h4>\n",
    "<img src=\"img/pp_chains.png\", width=1000>\n",
    "</center>"
   ]
  },
  {
   "cell_type": "markdown",
   "metadata": {
    "slideshow": {
     "slide_type": "slide"
    }
   },
   "source": [
    "<center>\n",
    "<h5> Solar neutrino spectrum for pp chain reactions (from Bahcall and Serenelli 2005, ApJ 626, 530)</h5>\n",
    "<img src=\"img/solar-neutrino-spectrum.png\", width=600>\n",
    "<small> The total neutrino flux at Earth is $\\sim\\,7\\times 10^{10}\\ \\mathrm{cm}^{-2}\\,\\mathrm{s}^{-1}$</small>\n",
    "</center>"
   ]
  },
  {
   "cell_type": "markdown",
   "metadata": {
    "slideshow": {
     "slide_type": "slide"
    }
   },
   "source": [
    "<center>\n",
    "<h4> CNO cycles </h4>\n",
    "<img src=\"img/cno_cycles.png\", width=800>\n",
    "</center>"
   ]
  },
  {
   "cell_type": "markdown",
   "metadata": {
    "slideshow": {
     "slide_type": "slide"
    }
   },
   "source": [
    "<center>\n",
    "<h4> NeNa and MgAl cycles </h4>\n",
    "<img src=\"img/neon_sodium_cycles.png\", width=800>\n",
    "</center>"
   ]
  },
  {
   "cell_type": "markdown",
   "metadata": {
    "slideshow": {
     "slide_type": "slide"
    }
   },
   "source": [
    "<center>\n",
    "<h4> The Coulomb barrier </h4>\n",
    "<img src=\"img/CoulombBarrier.jpg\", width=800>\n",
    "</center>"
   ]
  },
  {
   "cell_type": "markdown",
   "metadata": {
    "slideshow": {
     "slide_type": "slide"
    }
   },
   "source": [
    "<center>\n",
    "<h4> The quantum tunnelling effect </h4>\n",
    "<img src=\"img/tunnelling.gif\", width=500>\n",
    "</center>"
   ]
  },
  {
   "cell_type": "markdown",
   "metadata": {
    "slideshow": {
     "slide_type": "slide"
    }
   },
   "source": [
    "<center>\n",
    "<h4> The Gamow peak </h4>\n",
    "<img src=\"img/GamowPeak.png\", width=600>\n",
    "</center>"
   ]
  },
  {
   "cell_type": "markdown",
   "metadata": {
    "slideshow": {
     "slide_type": "slide"
    }
   },
   "source": [
    "<center>\n",
    "<h4> S factor for a resonant reaction </h4>\n",
    "<img src=\"img/Be7pSfactor.jpg\", width=600>\n",
    "</center>"
   ]
  },
  {
   "cell_type": "markdown",
   "metadata": {
    "slideshow": {
     "slide_type": "slide"
    }
   },
   "source": [
    "<center>\n",
    "<h4> pp chains versus CNO cycle </h4>\n",
    "<img src=\"img/ppcnoenergy.gif\", width=1000>\n",
    "</center>"
   ]
  },
  {
   "cell_type": "markdown",
   "metadata": {
    "collapsed": true,
    "jupyter": {
     "outputs_hidden": true
    },
    "slideshow": {
     "slide_type": "slide"
    }
   },
   "source": [
    "<center>\n",
    "<img src=\"img/triplealpha.jpg\", width=800>\n",
    "</center>"
   ]
  },
  {
   "cell_type": "markdown",
   "metadata": {
    "slideshow": {
     "slide_type": "slide"
    }
   },
   "source": [
    "<center>\n",
    "<img src=\"img/C12Resonance.jpg\", width=1000>\n",
    "</center>"
   ]
  }
 ],
 "metadata": {
  "anaconda-cloud": {},
  "celltoolbar": "Slideshow",
  "kernelspec": {
   "display_name": "Python 3 (ipykernel)",
   "language": "python",
   "name": "python3"
  },
  "language_info": {
   "codemirror_mode": {
    "name": "ipython",
    "version": 3
   },
   "file_extension": ".py",
   "mimetype": "text/x-python",
   "name": "python",
   "nbconvert_exporter": "python",
   "pygments_lexer": "ipython3",
   "version": "3.11.8"
  }
 },
 "nbformat": 4,
 "nbformat_minor": 4
}
