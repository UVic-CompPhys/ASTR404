{
 "cells": [
  {
   "cell_type": "code",
   "execution_count": 1,
   "metadata": {
    "slideshow": {
     "slide_type": "skip"
    }
   },
   "outputs": [],
   "source": [
    "from IPython.display import Image, HTML, display"
   ]
  },
  {
   "cell_type": "markdown",
   "metadata": {
    "slideshow": {
     "slide_type": "slide"
    }
   },
   "source": [
    "<center> \n",
    "<h1> ASTR 404 </h1>\n",
    "<h2> Thermonuclear Reactions </h2>\n",
    "</center>"
   ]
  },
  {
   "cell_type": "markdown",
   "metadata": {
    "slideshow": {
     "slide_type": "slide"
    }
   },
   "source": [
    "<center>\n",
    "<h4> A shell atomic model</h4>\n",
    "<img src=\"img/shell_atomic_model.jpg\", width=800>\n",
    "</center>"
   ]
  },
  {
   "cell_type": "markdown",
   "metadata": {
    "slideshow": {
     "slide_type": "slide"
    }
   },
   "source": [
    "<center>\n",
    "<h4> A fragment of the chart of nuclides (<a href=\"https://people.physics.anu.edu.au/~ecs103/chart/\" target=\"_blank\" rel=\"noopener noreferrer\">link to a full chart</a>)</h4>\n",
    "<img src=\"img/AChartOfNuclides.jpg\", width=800>\n",
    "</center>"
   ]
  },
  {
   "cell_type": "markdown",
   "metadata": {
    "slideshow": {
     "slide_type": "slide"
    }
   },
   "source": [
    "<center>\n",
    "<h4> The nuclear binding energy (per nucleon) </h4>\n",
    "<img src=\"img/BindingEnergy.gif\", width=600>\n",
    "</center>\n",
    "\n",
    "Weizsaecker approximation (1935)\n",
    "$$\n",
    "|E_\\mathrm{b}(Z,A)|\\approx a_1A-a_2A^{2/3}-a_3(Z^2A^{-1/3})-0.25a_4\\frac{(A-2Z)^2}{A}-a_5\\frac{\\delta}{A^{3/4}},\n",
    "$$\n",
    "$a_1=14.03$, $a_2=13.03$, $a_3=0.5835$, $a_4=77.25$, $a_5=33.57$, all in MeV. $\\delta=1, 0, \\mathrm{or} -1$ for even A and Z, odd A, or odd Z and A, respectively."
   ]
  },
  {
   "cell_type": "markdown",
   "metadata": {
    "slideshow": {
     "slide_type": "slide"
    }
   },
   "source": [
    "<center>\n",
    "<h4> Proton-proton (pp) chains </h4>\n",
    "<img src=\"img/pp_chains.png\", width=1000>\n",
    "</center>"
   ]
  },
  {
   "cell_type": "markdown",
   "metadata": {
    "slideshow": {
     "slide_type": "slide"
    }
   },
   "source": [
    "<center>\n",
    "<h5> Solar neutrino spectrum for pp chain reactions (from Bahcall and Serenelli 2005, ApJ 626, 530)</h5>\n",
    "<img src=\"img/solar-neutrino-spectrum.png\", width=600>\n",
    "<small> The total neutrino flux at Earth is $\\sim\\,7\\times 10^{10}\\ \\mathrm{cm}^{-2}\\,\\mathrm{s}^{-1}$</small>\n",
    "</center>"
   ]
  },
  {
   "cell_type": "markdown",
   "metadata": {
    "slideshow": {
     "slide_type": "slide"
    }
   },
   "source": [
    "<center>\n",
    "<h4> CNO cycles </h4>\n",
    "<img src=\"img/cno_cycles.png\", width=800>\n",
    "</center>"
   ]
  },
  {
   "cell_type": "markdown",
   "metadata": {
    "slideshow": {
     "slide_type": "slide"
    }
   },
   "source": [
    "<center>\n",
    "<h4> NeNa and MgAl cycles </h4>\n",
    "<img src=\"img/neon_sodium_cycles.png\", width=800>\n",
    "</center>"
   ]
  },
  {
   "cell_type": "markdown",
   "metadata": {
    "slideshow": {
     "slide_type": "slide"
    }
   },
   "source": [
    "<center>\n",
    "<h4> The Coulomb barrier </h4>\n",
    "<img src=\"img/CoulombBarrier.jpg\", width=800>\n",
    "</center>"
   ]
  },
  {
   "cell_type": "markdown",
   "metadata": {
    "slideshow": {
     "slide_type": "slide"
    }
   },
   "source": [
    "<center>\n",
    "<h4> The quantum tunnelling effect </h4>\n",
    "<img src=\"img/tunnelling.gif\", width=500>\n",
    "</center>"
   ]
  },
  {
   "cell_type": "markdown",
   "metadata": {
    "slideshow": {
     "slide_type": "slide"
    }
   },
   "source": [
    "<center>\n",
    "<h4> The Gamow peak </h4>\n",
    "<img src=\"img/Gamow_peak.png\", width=600>\n",
    "</center>"
   ]
  },
  {
   "cell_type": "markdown",
   "metadata": {
    "slideshow": {
     "slide_type": "slide"
    }
   },
   "source": [
    "For non-resonant reactions with the astrophysical factor $S(E)=\\sigma(E)E\\,e^{2\\pi\\eta}$ weakly depending on $E$,\n",
    "$$\n",
    "S(E)\\approx S(0) + S'(0)E + \\frac{1}{2}S''(E)E^2,\n",
    "$$\n",
    "and the MACS can then be represented as\n",
    "$$\n",
    "\\langle\\sigma v\\rangle = \\sqrt{\\frac{2}{M}}\\frac{\\Delta}{(kT)^{3/2}}\\,S_\\mathrm{eff}\\,e^{-\\tau},\n",
    "$$\n",
    "where \n",
    "$$\n",
    "\\tau = 3\\,\\frac{E_0}{kT} = 4.25\\left(\\frac{Z_\\mathrm{a}^2Z_\\mathrm{X}^2M}{M_\\mathrm{u}}\\right)^{1/3}T_9^{-1/3},\n",
    "$$\n",
    "and\n",
    "$$\n",
    "S_\\mathrm{eff} = S(0)\\left(1+\\frac{5}{12\\tau}\\right) + S'(0)\\left(E_0+\\frac{35}{36}kT\\right) +\n",
    "\\frac{1}{2}S''(0) \\left(E_0^2+\\frac{89}{36}E_0kT\\right)\\ \\mathrm{(MeV\\,barn)}.\n",
    "$$\n",
    "Therefore,\n",
    "$$\n",
    "\\langle\\sigma v\\rangle\\propto \\frac{S_\\mathrm{eff}}{T_9^{2/3}}\\,e^{-\\frac{b}{T_9^{1/3}}}.\n",
    "$$"
   ]
  },
  {
   "cell_type": "markdown",
   "metadata": {
    "slideshow": {
     "slide_type": "slide"
    }
   },
   "source": [
    "<center>\n",
    "<h4> S factor for a resonant reaction </h4>\n",
    "<img src=\"img/Be7pSfactorNew.jpg\", width=600>\n",
    "</center>"
   ]
  },
  {
   "cell_type": "markdown",
   "metadata": {
    "collapsed": true,
    "jupyter": {
     "outputs_hidden": true
    },
    "slideshow": {
     "slide_type": "slide"
    }
   },
   "source": [
    "<center>\n",
    "<img src=\"img/triplealpha.jpg\", width=800>\n",
    "</center>"
   ]
  },
  {
   "cell_type": "markdown",
   "metadata": {
    "slideshow": {
     "slide_type": "slide"
    }
   },
   "source": [
    "<center>\n",
    "<img src=\"img/Be8andC12Resonances.jpg\", width=1000>\n",
    "</center>"
   ]
  },
  {
   "cell_type": "markdown",
   "metadata": {
    "slideshow": {
     "slide_type": "slide"
    }
   },
   "source": [
    "<center>\n",
    "<h4> pp chains versus CNO cycle </h4>\n",
    "<img src=\"img/ppcnoenergy.gif\", width=1000>\n",
    "</center>"
   ]
  },
  {
   "cell_type": "code",
   "execution_count": null,
   "metadata": {},
   "outputs": [],
   "source": []
  }
 ],
 "metadata": {
  "anaconda-cloud": {},
  "celltoolbar": "Slideshow",
  "kernelspec": {
   "display_name": "Python 3 (ipykernel)",
   "language": "python",
   "name": "python3"
  },
  "language_info": {
   "codemirror_mode": {
    "name": "ipython",
    "version": 3
   },
   "file_extension": ".py",
   "mimetype": "text/x-python",
   "name": "python",
   "nbconvert_exporter": "python",
   "pygments_lexer": "ipython3",
   "version": "3.11.8"
  }
 },
 "nbformat": 4,
 "nbformat_minor": 4
}
